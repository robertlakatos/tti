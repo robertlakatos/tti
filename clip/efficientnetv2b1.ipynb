{
 "cells": [
  {
   "cell_type": "code",
   "execution_count": 1,
   "metadata": {},
   "outputs": [],
   "source": [
    "import pprint\n",
    "pp = pprint.PrettyPrinter(indent=4, width=200, depth=None, stream=None, compact=False, sort_dicts=False)"
   ]
  },
  {
   "cell_type": "code",
   "execution_count": 2,
   "metadata": {},
   "outputs": [],
   "source": [
    "from tensorflow.keras.applications import EfficientNetV2B1\n",
    "model = EfficientNetV2B1(include_top=False, pooling='avg', weights='imagenet')\n",
    "model.trainable = False"
   ]
  },
  {
   "cell_type": "code",
   "execution_count": 3,
   "metadata": {},
   "outputs": [
    {
     "name": "stdout",
     "output_type": "stream",
     "text": [
      "<keras.layers.pooling.global_average_pooling2d.GlobalAveragePooling2D object at 0x000001CB2E649D20>\n"
     ]
    }
   ],
   "source": [
    "print(model.get_layer('avg_pool'))"
   ]
  },
  {
   "cell_type": "code",
   "execution_count": 4,
   "metadata": {},
   "outputs": [],
   "source": [
    "#model.summary()"
   ]
  },
  {
   "cell_type": "code",
   "execution_count": 5,
   "metadata": {},
   "outputs": [],
   "source": [
    "from keras.models import Model\n",
    "my_model= Model(inputs=model.input, outputs=model.get_layer('avg_pool').output)"
   ]
  },
  {
   "cell_type": "code",
   "execution_count": 6,
   "metadata": {},
   "outputs": [],
   "source": [
    "#my_model.summary()"
   ]
  },
  {
   "cell_type": "code",
   "execution_count": 7,
   "metadata": {},
   "outputs": [],
   "source": [
    "import cv2\n",
    "import numpy as np\n",
    "import pandas as pd\n",
    "import os\n",
    "from matplotlib.pyplot import imread\n",
    "from matplotlib.pyplot import imshow\n",
    "from tensorflow.keras.preprocessing import image\n",
    "from tensorflow.keras.applications.imagenet_utils import decode_predictions, preprocess_input\n"
   ]
  },
  {
   "cell_type": "code",
   "execution_count": 8,
   "metadata": {},
   "outputs": [
    {
     "name": "stdout",
     "output_type": "stream",
     "text": [
      "31782\r"
     ]
    }
   ],
   "source": [
    "image_path = \"images_30k\"\n",
    "#image_path = \"images_8k\"\n",
    "filenames = os.listdir(image_path)\n",
    "#print(filenames)\n",
    "im_size = 240\n",
    "\n",
    "images = []\n",
    "\n",
    "   \n",
    "for i in range(len(filenames)):\n",
    "    print(i, end=\"\\r\")\n",
    "    #print(image_path + '/' + filenames[i])\n",
    "    img = cv2.imread(image_path + '/' + filenames[i])\n",
    "    img = cv2.resize(img, (im_size, im_size))\n",
    "    images.append(img)  # if memory fails us again try to convert here to float32\n"
   ]
  },
  {
   "cell_type": "code",
   "execution_count": 16,
   "metadata": {},
   "outputs": [
    {
     "name": "stdout",
     "output_type": "stream",
     "text": [
      "<class 'numpy.ndarray'>\n"
     ]
    },
    {
     "data": {
      "text/plain": [
       "(31783, 240, 240, 3)"
      ]
     },
     "execution_count": 16,
     "metadata": {},
     "output_type": "execute_result"
    }
   ],
   "source": [
    "images = np.array(images)\n",
    "print(type(images))\n",
    "#images = images.astype('float32') / 255.0  # with 30k imageset it causes not enough memory error \n",
    "images.shape"
   ]
  },
  {
   "cell_type": "code",
   "execution_count": 18,
   "metadata": {},
   "outputs": [
    {
     "name": "stdout",
     "output_type": "stream",
     "text": [
      "31782\r"
     ]
    }
   ],
   "source": [
    "outputs = []\n",
    "for i in range(len(images)):\n",
    "    print(i, end=\"\\r\")\n",
    "    outputs.append(my_model(images[i]))\n",
    "\n",
    "#pp.pprint(outputs)    "
   ]
  },
  {
   "cell_type": "code",
   "execution_count": 19,
   "metadata": {},
   "outputs": [
    {
     "name": "stdout",
     "output_type": "stream",
     "text": [
      "(31783, 1, 1280)\n"
     ]
    }
   ],
   "source": [
    "print(np.shape(outputs))"
   ]
  },
  {
   "cell_type": "code",
   "execution_count": 20,
   "metadata": {},
   "outputs": [
    {
     "name": "stdout",
     "output_type": "stream",
     "text": [
      "(31783, 1, 1280)\n"
     ]
    }
   ],
   "source": [
    "outputs_np = np.array(outputs, dtype=\"float32\")\n",
    "print(outputs_np.shape)\n",
    "output_fn = \"img_embs_30k.bin\"\n",
    "#output_fn = \"img_embs_8k.bin\"\n",
    "outputs_np.tofile(output_fn)"
   ]
  },
  {
   "cell_type": "code",
   "execution_count": 21,
   "metadata": {},
   "outputs": [
    {
     "name": "stdout",
     "output_type": "stream",
     "text": [
      "(31783, 1, 1280)\n"
     ]
    }
   ],
   "source": [
    "input = np.fromfile(output_fn, dtype='float32')\n",
    "input = np.reshape(input,(outputs_np.shape))\n",
    "print(input.shape)"
   ]
  },
  {
   "cell_type": "code",
   "execution_count": 22,
   "metadata": {},
   "outputs": [
    {
     "name": "stdout",
     "output_type": "stream",
     "text": [
      "True\n"
     ]
    }
   ],
   "source": [
    "print(np.array_equal(outputs_np,input))"
   ]
  },
  {
   "cell_type": "markdown",
   "metadata": {},
   "source": [
    "#old\n",
    "\n",
    "img_path='img.jpg'\n",
    "my_img=imread(img_path)\n",
    "#imshow(my_img)\n",
    "\n",
    "SIZE = 224\n",
    "\n",
    "img = cv2.imread(img_path)\n",
    "img = cv2.cvtColor(img, cv2.COLOR_BGR2RGB)\n",
    "h = SIZE # img.shape[0] - h - fixed\n",
    "w = round(img.shape[1]*(h/img.shape[0])) # keeps the ratio\n",
    "new_img = cv2.resize(img, (w,h))\n",
    "w_start=round((w-h)/2)\n",
    "w_end=w_start+SIZE\n",
    "crop_img = new_img[0:SIZE, w_start:w_end]\n",
    "imshow(crop_img)\n",
    "\n",
    "x = np.expand_dims(crop_img,axis=0)\n",
    "x = preprocess_input(x)\n",
    "\n",
    "print('input image shape:', x.shape)"
   ]
  },
  {
   "cell_type": "markdown",
   "metadata": {},
   "source": [
    "#old\n",
    "\n",
    "img_path='img.jpg'\n",
    "my_img=imread(img_path)\n",
    "imshow(my_img)"
   ]
  },
  {
   "cell_type": "markdown",
   "metadata": {},
   "source": [
    "#old\n",
    "\n",
    "outputs = my_model(my_img)"
   ]
  },
  {
   "cell_type": "markdown",
   "metadata": {},
   "source": [
    "#old\n",
    "\n",
    "pp.pprint(outputs)"
   ]
  }
 ],
 "metadata": {
  "kernelspec": {
   "display_name": "Python 3.10.6 64-bit",
   "language": "python",
   "name": "python3"
  },
  "language_info": {
   "codemirror_mode": {
    "name": "ipython",
    "version": 3
   },
   "file_extension": ".py",
   "mimetype": "text/x-python",
   "name": "python",
   "nbconvert_exporter": "python",
   "pygments_lexer": "ipython3",
   "version": "3.10.6"
  },
  "orig_nbformat": 4,
  "vscode": {
   "interpreter": {
    "hash": "26de051ba29f2982a8de78e945f0abaf191376122a1563185a90213a26c5da77"
   }
  }
 },
 "nbformat": 4,
 "nbformat_minor": 2
}
