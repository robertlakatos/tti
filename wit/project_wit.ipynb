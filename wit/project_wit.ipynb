{
 "cells": [
  {
   "cell_type": "code",
   "execution_count": 16,
   "metadata": {},
   "outputs": [],
   "source": [
    "from datasets import load_from_disk\n",
    "import pprint\n",
    "import PIL"
   ]
  },
  {
   "cell_type": "code",
   "execution_count": 17,
   "metadata": {},
   "outputs": [],
   "source": [
    "pp = pprint.PrettyPrinter(indent=2, width=200, depth=None, stream=None, compact=True, sort_dicts=False)"
   ]
  },
  {
   "cell_type": "code",
   "execution_count": 3,
   "metadata": {},
   "outputs": [],
   "source": [
    "small_dataset=load_from_disk(\"D:\\WIT\\simpler\")"
   ]
  },
  {
   "cell_type": "code",
   "execution_count": 4,
   "metadata": {},
   "outputs": [
    {
     "name": "stdout",
     "output_type": "stream",
     "text": [
      "Dataset({\n",
      "    features: ['image', 'language', 'page_title', 'section_title', 'context_section_description', 'context_page_description', 'caption_reference_description'],\n",
      "    num_rows: 6477255\n",
      "})\n"
     ]
    }
   ],
   "source": [
    "pp.pprint(small_dataset)"
   ]
  },
  {
   "cell_type": "code",
   "execution_count": 19,
   "metadata": {},
   "outputs": [
    {
     "name": "stdout",
     "output_type": "stream",
     "text": [
      "{ 'image': <PIL.JpegImagePlugin.JpegImageFile image mode=RGB size=300x225 at 0x213B67DA050>,\n",
      "  'language': ['ro', 'vi', 'sk', 'zh-TW', 'ar', 'es', 'cs', 'hu', 'ba', 'ru', 'pt', 'pl', 'zh', 'ru', 'id', 'it', 'pt', 'ca', 'en', 'fr', 'uk', 'ru', 'ru', 'iw', 'nl', 'th', 'lv'],\n",
      "  'page_title': [ 'Scolopendra gigantea', 'Scolopendra gigantea', 'Scolopendra gigantea', '秘魯巨人蜈蚣', 'حريش الأمازون العملاق', 'Scolopendra gigantea', 'Stonoha obrovská', 'Scolopendra gigantea',\n",
      "                  'Огиб ыҙаны', 'Настоящие сколопендры', 'Scolopendra gigantea', 'Skolopendra olbrzymia', '秘魯巨人蜈蚣', 'Гигантская сколопендра', 'Scolopendra gigantea', 'Scolopendra gigantea',\n",
      "                  'Scolopendra', 'Scolopendra gigantea', 'Scolopendra gigantea', 'Scolopendra gigantea', 'Сколопендра гігантська', 'Урочище Огиб', 'Сколопендры', 'רבנדל אמזונאס ענק',\n",
      "                  'Scolopendra gigantea', 'ตะขาบยักษ์ขาเหลืองเปรู', 'Skolopendru dzimta'],\n",
      "  'section_title': [ None, None, None, None, None, None, None, None, 'Һүрәтләү', None, None, None, None, 'Фото', None, None, None, None, None, 'Galerie', None, 'Описание', None, None, None, None,\n",
      "                     None],\n",
      "  'context_section_description': [ None,\n",
      "                                   'Scolopendra gigantea (còn được gọi là Rết chân vàng khổng lồ Peru và Rết khổng lồ Amazon) là đại diện lớn nhất của chi Scolopendra nói riêng và cả lớp rết nói '\n",
      "                                   'chung, thường đạt độ dài 26\\xa0cm (10\\xa0in) và có thể vượt quá 30\\xa0cm (12\\xa0in). Sinh sống ở khu vực phía bắc và tây của Nam Mỹ và các đảo Trinidad, Puerto '\n",
      "                                   'Rico, Saint Thomas, U.S. Virgin Islands, Jamaica, và Hispaniola.',\n",
      "                                   None, '祕魯巨人蜈蚣（學名：Scolopendra gigantea）祕魯巨人蜈蚣是世界上最大的蜈蚣。棲息於南美洲與加勒比地區，平均長度為30公分（12英寸），有的個體甚至能長到38\\xa0cm（15英寸）。以節肢動物、兩棲類、哺乳動物與爬蟲類為食。',\n",
      "                                   'حريش الأمازون العملاق و المعروفة أيضا بحريش البيرو أصفر الساق (الاسم العلمي: Scolopendra gigantea) هي واحدة من أكبر ممثلي جنس العقربان بطول يصل إلى 30 سم (12 '\n",
      "                                   'بوصة). ويمكن العثور عليها في أماكن مختلفة من أمريكا الجنوبية ومنطقة البحر الكاريبي، حيث يفترس مجموعة كبيرة ومتنوعة من الحيوانات، بما في ذلك المفصليات الأخرى، '\n",
      "                                   'والبرمائيات والثدييات والزواحف. ومن المعروف أنها عدوانية جدا.',\n",
      "                                   None,\n",
      "                                   'Stonoha obrovská (Scolopendra gigantea) je druh stonožky žijící v\\xa0pralesích tropické Jižní Ameriky a na antilských ostrovech. Dosahuje délky 25 až 30 '\n",
      "                                   'centimetrů.',\n",
      "                                   'A Scolopendra gigantea a százlábúak (Chilopoda) osztályának Scolopendromorpha rendjébe, ezen belül a Scolopendridae családjába tartozó faj.',\n",
      "                                   'Огиб ыҙаны\\xa0— төбәк әһәмиәтендәге комплекслы тәбиғәт һәйкәле. Ул Ростов өлкәһе Усть-Донецкий районында урынлашҡан. Тоҙло тау биттәре тәбиғәт һәйкәле статусын '\n",
      "                                   'Ростов өлкәһе Хөкүмәте 349 Ҡарары (15.05.2014 йыл) нигеҙендә ала.',\n",
      "                                   None,\n",
      "                                   'Scolopendra giganteá, também conhecida como centopeia gigante peruana de perna amarela ou centopeia gigante amazônica, é uma das maiores centopeias do gênero '\n",
      "                                   'Scolopendra, com comprimento de até 30 centímetros.  Essa espécie é encontrada em vários lugares da América do Sul e do Caribe, onde caça uma grande variedade de '\n",
      "                                   'animais, incluindo outros artrópodes, anfíbios, mamíferos e répteis consideráveis.',\n",
      "                                   None, '秘鲁巨人蜈蚣（学名：Scolopendra gigantea）秘鲁巨人蜈蚣是世界上最大的蜈蚣。栖息于南美洲与加勒比地区，平均长度为30厘米（12英寸），有的个体甚至能长到38\\xa0cm（15英寸）。以节肢动物、两栖类、哺乳动物与爬虫类为食。', None,\n",
      "                                   'Scolopendra gigantea, dikenal juga sebagi lipan kaki kuning raksasa peru atau lipan raksasa amazon, adalah salah satu lipan terbesar dari genus Scolopendra dengan '\n",
      "                                   'panjang hingga 30 sentimeter (12\\xa0in). Spesies ini ditemukan di berbagai tempat di Amerika Selatan dan Karibia, di mana ia memangsa berbagai macam hewan, '\n",
      "                                   'termasuk artropoda lain, amfibi, mamalia dan reptil.',\n",
      "                                   'Il centopiedi amazzonico gigante (Scolopendra gigantea (Linnaeus, 1758)), noto anche come centopiedi peruviano dalle zampe gialle, è uno dei più grandi centopiedi '\n",
      "                                   'del genere Scolopendra, misurando in lunghezza fino a 30\\xa0cm. Questa specie si rinviene in varie zone del Sud America e dei Caraibi, dove preda una grande '\n",
      "                                   'varietà di animali, includendo altri considerevoli artropodi, anfibi, mammiferi e rettili.',\n",
      "                                   'Scolopendra é um gênero de lacraias (família Scolopendridae)',\n",
      "                                   \"Scolopendra gigantea és una espècie de miriàpode de la classe dels quilòpodes. Viu a Veneçuela (inclosa l'illa de Margarita), Costa Rica, Colòmbia, República \"\n",
      "                                   'Dominicana, Mèxic i les illes de Trinidad, Jamaica, Aruba, Nicaragua, Puerto Rico i Curazao.  És el major representant del gènere Scolopendra, ja que pot arribar '\n",
      "                                   'a longituds de 26 cm i pot superar 30 cm.',\n",
      "                                   'Scolopendra gigantea, also known as the Peruvian giant yellow-leg centipede or Amazonian giant centipede, is one of the largest centipedes of the genus '\n",
      "                                   'Scolopendra with a length up to 30 centimetres (12\\xa0in). This species is found in various places in South America and the Caribbean, where it preys on a wide '\n",
      "                                   'variety of animals, including other sizable arthropods, amphibians, mammals and reptiles.',\n",
      "                                   None, 'Сколопендра гігантська (Scolopendra gigantea)\\xa0— вид багатоніжок з родини Scolopendromorpha, одна з найдовших багатоніжок на Землі.',\n",
      "                                   'Урочище Огиб\\xa0является комплексным памятником природы регионального значения. Находится он в Усть-Донецком районе Ростовской области.  Статус природного '\n",
      "                                   'памятника Тузловские склоны получило согласно Постановление правительства Ростовской области от 15.05.2014 №349. ',\n",
      "                                   'Сколопе́ндры (лат.\\xa0Scolopendra)\\xa0— род губоногих многоножек из отряда сколопендровых (Scolopendromorpha).', None,\n",
      "                                   'Scolopendra gigantea is een tijgerduizendpoot uit Zuid-Amerika. De soort jaagt onder andere op grote geleedpotigen, amfibieën, reptielen en kleine zoogdieren. Het '\n",
      "                                   'is voor zover bekend de grootste niet uitgestorven duizendpoot ter wereld.',\n",
      "                                   None,\n",
      "                                   'Skolpendru dzimta (Scolopendridae) pieder pie simtkāju kārtas. Ap 400 dzimtas sugas sastopamas visā pasaulē, īpaši subtropu un tropu apgabalos. Mitinās augsnē, '\n",
      "                                   'nobirušās lapās, plaisās, spraugās.'],\n",
      "  'context_page_description': [ 'Scolopendra gigantea este un miriapod din clasa Chilopoda, fiind cel mai mare reprezentant al genului Scolopendra. Adultul poate atinge o lungime de 26 cm, uneori '\n",
      "                                'depășind 30 cm. Această specie habitează în regiunile de nord și de vest a Americii de Sud, pe insulele Trinidad, insulele Virgine, Jamaica Hispaniola ș.a. '\n",
      "                                'Localnicii denumesc scolopendra chilopodul gigant galben și chilopodul gigant amazonian.',\n",
      "                                'Scolopendra gigantea là đại diện lớn nhất của chi Scolopendra nói riêng và cả lớp rết nói chung, thường đạt độ dài 26 cm và có thể vượt quá 30 cm. Sinh sống ở khu '\n",
      "                                'vực phía bắc và tây của Nam Mỹ và các đảo Trinidad, Puerto Rico, Saint Thomas, U.S. Virgin Islands, Jamaica, và Hispaniola.',\n",
      "                                'Scolopendra gigantea, starší slovenský nazov: štípavica veľká, je živočích z rodu Scolopendra, s veľkosťou do 30 cm.',\n",
      "                                '祕魯巨人蜈蚣祕魯巨人蜈蚣是世界上最大的蜈蚣。棲息於南美洲與加勒比地區，平均長度為30公分，有的個體甚至能長到38 cm。以節肢動物、兩棲類、哺乳動物與爬蟲類為食。',\n",
      "                                'حريش الأمازون العملاق و المعروفة أيضا بحريش البيرو أصفر الساق هي واحدة من أكبر ممثلي جنس العقربان بطول يصل إلى 30 سم. ويمكن العثور عليها في أماكن مختلفة من أمريكا '\n",
      "                                'الجنوبية ومنطقة البحر الكاريبي، حيث يفترس مجموعة كبيرة ومتنوعة من الحيوانات، بما في ذلك المفصليات الأخرى، والبرمائيات والثدييات والزواحف. ومن المعروف أنها عدوانية '\n",
      "                                'جدا.',\n",
      "                                'La escolopendra gigante es una especie de miriápodo que se encuentra en las tierras bajas de Venezuela, Costa Rica, Colombia, República Dominicana, México y las '\n",
      "                                'islas de Trinidad, Jamaica, Aruba, Nicaragua, Puerto Rico y Curazao.\\u200b',\n",
      "                                'Stonoha obrovská je druh stonožky žijící v pralesích tropické Jižní Ameriky a na antilských ostrovech. Dosahuje délky 25 až 30 centimetrů.',\n",
      "                                'A Scolopendra gigantea a százlábúak osztályának Scolopendromorpha rendjébe, ezen belül a Scolopendridae családjába tartozó faj.',\n",
      "                                'Огиб ыҙаны— төбәк әһәмиәтендәге комплекслы тәбиғәт һәйкәле. Ростов өлкәһе Усть-Донецкий районында урынлашҡан. Тоҙло тау биттәре Ростов өлкәһе Хөкүмәте 349 Ҡарары '\n",
      "                                'нигеҙендә тәбиғәт һәйкәле статусын алған.',\n",
      "                                'Настоящие сколопендры — семейство губоногих многоножек, включающее около 20 родов и более 400 видов, в том числе сколопендр.',\n",
      "                                'Scolopendra giganteá, também conhecida como centopeia gigante peruana de perna amarela ou centopeia gigante amazônica, é uma das maiores centopeias do gênero '\n",
      "                                'Scolopendra, com comprimento de até 30 centímetros. Essa espécie é encontrada em vários lugares da América do Sul e do Caribe, onde caça uma grande variedade de '\n",
      "                                'animais, incluindo outros artrópodes, anfíbios, mamíferos e répteis consideráveis.',\n",
      "                                'Skolopendra olbrzymia – gatunek południowoamerykańskiego wija z rodzaju Scolopendra.',\n",
      "                                '秘鲁巨人蜈蚣秘鲁巨人蜈蚣是世界上最大的蜈蚣。栖息于南美洲与加勒比地区，平均长度为30厘米，有的个体甚至能长到38 cm。以节肢动物、两栖类、哺乳动物与爬虫类为食。',\n",
      "                                'Гигантская сколопендра — вид губоногих многоножек из семейства настоящих сколопендр, обитающих на севере и западе Южной Америки и на островах Ямайка и Тринидад. '\n",
      "                                'Известны случаи нападения гигантской сколопендры на птиц, ящериц, мышей и жаб. Особенно ядовитыми являются самки. Ошибочно считается, что укус гигантской сколопендры '\n",
      "                                'смертелен и для человека.',\n",
      "                                'Scolopendra gigantea, dikenal juga sebagi lipan kaki kuning raksasa peru atau lipan raksasa amazon, adalah salah satu lipan terbesar dari genus Scolopendra dengan '\n",
      "                                'panjang hingga 30 sentimeter. Spesies ini ditemukan di berbagai tempat di Amerika Selatan dan Karibia, di mana ia memangsa berbagai macam hewan, termasuk artropoda '\n",
      "                                'lain, amfibi, mamalia dan reptil.',\n",
      "                                'Il centopiedi amazzonico gigante, noto anche come centopiedi peruviano dalle zampe gialle, è uno dei più grandi centopiedi del genere Scolopendra, misurando in '\n",
      "                                'lunghezza fino a 30 cm. Questa specie si rinviene in varie zone del Sud America e dei Caraibi, dove preda una grande varietà di animali, includendo altri '\n",
      "                                'considerevoli artropodi, anfibi, mammiferi e rettili.',\n",
      "                                'Scolopendra é um gênero de lacraias',\n",
      "                                'Scolopendra gigantea és una espècie de miriàpode de la classe dels quilòpodes. Viu a Veneçuela, Costa Rica, Colòmbia, República Dominicana, Mèxic i les illes de '\n",
      "                                'Trinidad, Jamaica, Aruba, Nicaragua, Puerto Rico i Curazao. És el major representant del gènere Scolopendra, ja que pot arribar a longituds de 26 cm i pot superar 30 '\n",
      "                                'cm.',\n",
      "                                'Scolopendra gigantea, also known as the Peruvian giant yellow-leg centipede or Amazonian giant centipede, is one of the largest centipedes of the genus Scolopendra '\n",
      "                                'with a length up to 30 centimetres. This species is found in various places in South America and the Caribbean, where it preys on a wide variety of animals, '\n",
      "                                'including other sizable arthropods, amphibians, mammals and reptiles.',\n",
      "                                'Scolopendra gigantea est la plus grande scolopendre au monde, elle mesure entre 25 et 30 centimètres, mais les spécimens âgés peuvent atteindre 40 centimètres. Elle '\n",
      "                                \"vit dans les zones chaudes et humides, et il lui arrive de s'infiltrer dans les maisons. Venimeuse, elle est très agressive, sa morsure, si elle est très \"\n",
      "                                'douloureuse, est rarement mortelle, sauf pour un enfant ou un adulte fragilisé.',\n",
      "                                'Сколопендра гігантська — вид багатоніжок з родини Scolopendromorpha, одна з найдовших багатоніжок на Землі.',\n",
      "                                'Урочище Огиб — комплексный памятник природы регионального значения. Расположен в Усть-Донецком районе Ростовской области. Статус природного памятника Тузловские '\n",
      "                                'склоны получило согласно Постановление правительства Ростовской области от 15.05.2014 №349.',\n",
      "                                'Сколопе́ндры — род губоногих многоножек из отряда сколопендровых.',\n",
      "                                'רבנדל אמזונאס ענק הוא מין הנדל הגדול ביותר בעולם. הוא מצוי בטבע באמריקה הדרומית ובמספר איים קרובים כמו האיים הקריביים.',\n",
      "                                'Scolopendra gigantea is een tijgerduizendpoot uit Zuid-Amerika. De soort jaagt onder andere op grote geleedpotigen, amfibieën, reptielen en kleine zoogdieren. Het is '\n",
      "                                'voor zover bekend de grootste niet uitgestorven duizendpoot ter wereld.',\n",
      "                                'ตะขาบยักษ์ขาเหลืองเปรู หรือ ตะขาบยักษ์อเมซอน เป็นตะขาบชนิดที่มีขนาดใหญ่ที่สุดในสกุล Scolopendra โดยปกติเมื่อโตเต็มที่จะยาว 26 เซนติเมตร แต่บางครั้งก็สามารถโตได้ถึง '\n",
      "                                '30 เซนติเมตร ตะขาบชนิดนี้อาศัยอยู่ทางแถบเหนือและตะวันตกของทวีปอเมริกาใต้ และตามเกาะแก่งของประเทศตรินิแดดและจาไมกา เป็นสัตว์กินเนื้อ โดยกินจิ้งจก, กบ, นก, หนู '\n",
      "                                'และแม้แต่ค้างคาวเป็นอาหาร และขึ้นชื่อในเรื่องความดุร้าย',\n",
      "                                'Skolpendru dzimta pieder pie simtkāju kārtas. Ap 400 dzimtas sugas sastopamas visā pasaulē, īpaši subtropu un tropu apgabalos. Mitinās augsnē, nobirušās lapās, '\n",
      "                                'plaisās, spraugās.'],\n",
      "  'caption_reference_description': [ None, None, None, None, None, None, None, 'Mindegyik szelvényén egy-egy lábpár ül', 'Сколопендра', None, None, None, None, None, None, None, None, None, None,\n",
      "                                     None, None, 'Сколопендра', None, None, None, None, 'Milzu skolopendra (Scolopendra gigantea)']}\n"
     ]
    }
   ],
   "source": [
    "pp.pprint(small_dataset[0])"
   ]
  },
  {
   "cell_type": "code",
   "execution_count": 22,
   "metadata": {},
   "outputs": [
    {
     "name": "stderr",
     "output_type": "stream",
     "text": [
      " 17%|█▋        | 1087/6478 [20:17<1:40:36,  1.12s/ba]\n"
     ]
    },
    {
     "ename": "ValueError",
     "evalue": "Decompressed Data Too Large",
     "output_type": "error",
     "traceback": [
      "\u001b[1;31m---------------------------------------------------------------------------\u001b[0m",
      "\u001b[1;31mValueError\u001b[0m                                Traceback (most recent call last)",
      "\u001b[1;32mc:\\Users\\Miki\\Desktop\\szakdolgozat\\kod\\project.ipynb Cell 6\u001b[0m in \u001b[0;36m<cell line: 3>\u001b[1;34m()\u001b[0m\n\u001b[0;32m      <a href='vscode-notebook-cell:/c%3A/Users/Miki/Desktop/szakdolgozat/kod/project.ipynb#W4sZmlsZQ%3D%3D?line=0'>1</a>\u001b[0m \u001b[39mdef\u001b[39;00m \u001b[39mfilterhu\u001b[39m(d):\n\u001b[0;32m      <a href='vscode-notebook-cell:/c%3A/Users/Miki/Desktop/szakdolgozat/kod/project.ipynb#W4sZmlsZQ%3D%3D?line=1'>2</a>\u001b[0m     \u001b[39mreturn\u001b[39;00m \u001b[39m'\u001b[39m\u001b[39mhu\u001b[39m\u001b[39m'\u001b[39m \u001b[39min\u001b[39;00m d[\u001b[39m'\u001b[39m\u001b[39mlanguage\u001b[39m\u001b[39m'\u001b[39m]\n\u001b[1;32m----> <a href='vscode-notebook-cell:/c%3A/Users/Miki/Desktop/szakdolgozat/kod/project.ipynb#W4sZmlsZQ%3D%3D?line=2'>3</a>\u001b[0m hu_dataset\u001b[39m=\u001b[39msmall_dataset\u001b[39m.\u001b[39;49mfilter(\u001b[39mlambda\u001b[39;49;00m row: filterhu(row))\n",
      "File \u001b[1;32mc:\\Users\\Miki\\AppData\\Local\\Programs\\Python\\Python310\\lib\\site-packages\\datasets\\arrow_dataset.py:524\u001b[0m, in \u001b[0;36mtransmit_format.<locals>.wrapper\u001b[1;34m(*args, **kwargs)\u001b[0m\n\u001b[0;32m    517\u001b[0m self_format \u001b[39m=\u001b[39m {\n\u001b[0;32m    518\u001b[0m     \u001b[39m\"\u001b[39m\u001b[39mtype\u001b[39m\u001b[39m\"\u001b[39m: \u001b[39mself\u001b[39m\u001b[39m.\u001b[39m_format_type,\n\u001b[0;32m    519\u001b[0m     \u001b[39m\"\u001b[39m\u001b[39mformat_kwargs\u001b[39m\u001b[39m\"\u001b[39m: \u001b[39mself\u001b[39m\u001b[39m.\u001b[39m_format_kwargs,\n\u001b[0;32m    520\u001b[0m     \u001b[39m\"\u001b[39m\u001b[39mcolumns\u001b[39m\u001b[39m\"\u001b[39m: \u001b[39mself\u001b[39m\u001b[39m.\u001b[39m_format_columns,\n\u001b[0;32m    521\u001b[0m     \u001b[39m\"\u001b[39m\u001b[39moutput_all_columns\u001b[39m\u001b[39m\"\u001b[39m: \u001b[39mself\u001b[39m\u001b[39m.\u001b[39m_output_all_columns,\n\u001b[0;32m    522\u001b[0m }\n\u001b[0;32m    523\u001b[0m \u001b[39m# apply actual function\u001b[39;00m\n\u001b[1;32m--> 524\u001b[0m out: Union[\u001b[39m\"\u001b[39m\u001b[39mDataset\u001b[39m\u001b[39m\"\u001b[39m, \u001b[39m\"\u001b[39m\u001b[39mDatasetDict\u001b[39m\u001b[39m\"\u001b[39m] \u001b[39m=\u001b[39m func(\u001b[39mself\u001b[39m, \u001b[39m*\u001b[39margs, \u001b[39m*\u001b[39m\u001b[39m*\u001b[39mkwargs)\n\u001b[0;32m    525\u001b[0m datasets: List[\u001b[39m\"\u001b[39m\u001b[39mDataset\u001b[39m\u001b[39m\"\u001b[39m] \u001b[39m=\u001b[39m \u001b[39mlist\u001b[39m(out\u001b[39m.\u001b[39mvalues()) \u001b[39mif\u001b[39;00m \u001b[39misinstance\u001b[39m(out, \u001b[39mdict\u001b[39m) \u001b[39melse\u001b[39;00m [out]\n\u001b[0;32m    526\u001b[0m \u001b[39m# re-apply format to the output\u001b[39;00m\n",
      "File \u001b[1;32mc:\\Users\\Miki\\AppData\\Local\\Programs\\Python\\Python310\\lib\\site-packages\\datasets\\fingerprint.py:480\u001b[0m, in \u001b[0;36mfingerprint_transform.<locals>._fingerprint.<locals>.wrapper\u001b[1;34m(*args, **kwargs)\u001b[0m\n\u001b[0;32m    476\u001b[0m             validate_fingerprint(kwargs[fingerprint_name])\n\u001b[0;32m    478\u001b[0m \u001b[39m# Call actual function\u001b[39;00m\n\u001b[1;32m--> 480\u001b[0m out \u001b[39m=\u001b[39m func(\u001b[39mself\u001b[39m, \u001b[39m*\u001b[39margs, \u001b[39m*\u001b[39m\u001b[39m*\u001b[39mkwargs)\n\u001b[0;32m    482\u001b[0m \u001b[39m# Update fingerprint of in-place transforms + update in-place history of transforms\u001b[39;00m\n\u001b[0;32m    484\u001b[0m \u001b[39mif\u001b[39;00m inplace:  \u001b[39m# update after calling func so that the fingerprint doesn't change if the function fails\u001b[39;00m\n",
      "File \u001b[1;32mc:\\Users\\Miki\\AppData\\Local\\Programs\\Python\\Python310\\lib\\site-packages\\datasets\\arrow_dataset.py:2904\u001b[0m, in \u001b[0;36mDataset.filter\u001b[1;34m(self, function, with_indices, input_columns, batched, batch_size, keep_in_memory, load_from_cache_file, cache_file_name, writer_batch_size, fn_kwargs, num_proc, suffix_template, new_fingerprint, desc)\u001b[0m\n\u001b[0;32m   2901\u001b[0m \u001b[39mif\u001b[39;00m function \u001b[39mis\u001b[39;00m \u001b[39mNone\u001b[39;00m:\n\u001b[0;32m   2902\u001b[0m     function \u001b[39m=\u001b[39m \u001b[39mlambda\u001b[39;00m x: \u001b[39mTrue\u001b[39;00m  \u001b[39m# noqa: E731\u001b[39;00m\n\u001b[1;32m-> 2904\u001b[0m indices \u001b[39m=\u001b[39m \u001b[39mself\u001b[39;49m\u001b[39m.\u001b[39;49mmap(\n\u001b[0;32m   2905\u001b[0m     function\u001b[39m=\u001b[39;49mpartial(\n\u001b[0;32m   2906\u001b[0m         get_indices_from_mask_function, function, batched, with_indices, input_columns, \u001b[39mself\u001b[39;49m\u001b[39m.\u001b[39;49m_indices\n\u001b[0;32m   2907\u001b[0m     ),\n\u001b[0;32m   2908\u001b[0m     with_indices\u001b[39m=\u001b[39;49m\u001b[39mTrue\u001b[39;49;00m,\n\u001b[0;32m   2909\u001b[0m     features\u001b[39m=\u001b[39;49mFeatures({\u001b[39m\"\u001b[39;49m\u001b[39mindices\u001b[39;49m\u001b[39m\"\u001b[39;49m: Value(\u001b[39m\"\u001b[39;49m\u001b[39muint64\u001b[39;49m\u001b[39m\"\u001b[39;49m)}),\n\u001b[0;32m   2910\u001b[0m     batched\u001b[39m=\u001b[39;49m\u001b[39mTrue\u001b[39;49;00m,\n\u001b[0;32m   2911\u001b[0m     batch_size\u001b[39m=\u001b[39;49mbatch_size,\n\u001b[0;32m   2912\u001b[0m     remove_columns\u001b[39m=\u001b[39;49m\u001b[39mself\u001b[39;49m\u001b[39m.\u001b[39;49mcolumn_names,\n\u001b[0;32m   2913\u001b[0m     keep_in_memory\u001b[39m=\u001b[39;49mkeep_in_memory,\n\u001b[0;32m   2914\u001b[0m     load_from_cache_file\u001b[39m=\u001b[39;49mload_from_cache_file,\n\u001b[0;32m   2915\u001b[0m     cache_file_name\u001b[39m=\u001b[39;49mcache_file_name,\n\u001b[0;32m   2916\u001b[0m     writer_batch_size\u001b[39m=\u001b[39;49mwriter_batch_size,\n\u001b[0;32m   2917\u001b[0m     fn_kwargs\u001b[39m=\u001b[39;49mfn_kwargs,\n\u001b[0;32m   2918\u001b[0m     num_proc\u001b[39m=\u001b[39;49mnum_proc,\n\u001b[0;32m   2919\u001b[0m     suffix_template\u001b[39m=\u001b[39;49msuffix_template,\n\u001b[0;32m   2920\u001b[0m     new_fingerprint\u001b[39m=\u001b[39;49mnew_fingerprint,\n\u001b[0;32m   2921\u001b[0m     input_columns\u001b[39m=\u001b[39;49minput_columns,\n\u001b[0;32m   2922\u001b[0m     desc\u001b[39m=\u001b[39;49mdesc,\n\u001b[0;32m   2923\u001b[0m )\n\u001b[0;32m   2924\u001b[0m new_dataset \u001b[39m=\u001b[39m copy\u001b[39m.\u001b[39mdeepcopy(\u001b[39mself\u001b[39m)\n\u001b[0;32m   2925\u001b[0m new_dataset\u001b[39m.\u001b[39m_indices \u001b[39m=\u001b[39m indices\u001b[39m.\u001b[39mdata\n",
      "File \u001b[1;32mc:\\Users\\Miki\\AppData\\Local\\Programs\\Python\\Python310\\lib\\site-packages\\datasets\\arrow_dataset.py:2387\u001b[0m, in \u001b[0;36mDataset.map\u001b[1;34m(self, function, with_indices, with_rank, input_columns, batched, batch_size, drop_last_batch, remove_columns, keep_in_memory, load_from_cache_file, cache_file_name, writer_batch_size, features, disable_nullable, fn_kwargs, num_proc, suffix_template, new_fingerprint, desc)\u001b[0m\n\u001b[0;32m   2384\u001b[0m disable_tqdm \u001b[39m=\u001b[39m \u001b[39mnot\u001b[39;00m logging\u001b[39m.\u001b[39mis_progress_bar_enabled()\n\u001b[0;32m   2386\u001b[0m \u001b[39mif\u001b[39;00m num_proc \u001b[39mis\u001b[39;00m \u001b[39mNone\u001b[39;00m \u001b[39mor\u001b[39;00m num_proc \u001b[39m==\u001b[39m \u001b[39m1\u001b[39m:\n\u001b[1;32m-> 2387\u001b[0m     \u001b[39mreturn\u001b[39;00m \u001b[39mself\u001b[39;49m\u001b[39m.\u001b[39;49m_map_single(\n\u001b[0;32m   2388\u001b[0m         function\u001b[39m=\u001b[39;49mfunction,\n\u001b[0;32m   2389\u001b[0m         with_indices\u001b[39m=\u001b[39;49mwith_indices,\n\u001b[0;32m   2390\u001b[0m         with_rank\u001b[39m=\u001b[39;49mwith_rank,\n\u001b[0;32m   2391\u001b[0m         input_columns\u001b[39m=\u001b[39;49minput_columns,\n\u001b[0;32m   2392\u001b[0m         batched\u001b[39m=\u001b[39;49mbatched,\n\u001b[0;32m   2393\u001b[0m         batch_size\u001b[39m=\u001b[39;49mbatch_size,\n\u001b[0;32m   2394\u001b[0m         drop_last_batch\u001b[39m=\u001b[39;49mdrop_last_batch,\n\u001b[0;32m   2395\u001b[0m         remove_columns\u001b[39m=\u001b[39;49mremove_columns,\n\u001b[0;32m   2396\u001b[0m         keep_in_memory\u001b[39m=\u001b[39;49mkeep_in_memory,\n\u001b[0;32m   2397\u001b[0m         load_from_cache_file\u001b[39m=\u001b[39;49mload_from_cache_file,\n\u001b[0;32m   2398\u001b[0m         cache_file_name\u001b[39m=\u001b[39;49mcache_file_name,\n\u001b[0;32m   2399\u001b[0m         writer_batch_size\u001b[39m=\u001b[39;49mwriter_batch_size,\n\u001b[0;32m   2400\u001b[0m         features\u001b[39m=\u001b[39;49mfeatures,\n\u001b[0;32m   2401\u001b[0m         disable_nullable\u001b[39m=\u001b[39;49mdisable_nullable,\n\u001b[0;32m   2402\u001b[0m         fn_kwargs\u001b[39m=\u001b[39;49mfn_kwargs,\n\u001b[0;32m   2403\u001b[0m         new_fingerprint\u001b[39m=\u001b[39;49mnew_fingerprint,\n\u001b[0;32m   2404\u001b[0m         disable_tqdm\u001b[39m=\u001b[39;49mdisable_tqdm,\n\u001b[0;32m   2405\u001b[0m         desc\u001b[39m=\u001b[39;49mdesc,\n\u001b[0;32m   2406\u001b[0m     )\n\u001b[0;32m   2407\u001b[0m \u001b[39melse\u001b[39;00m:\n\u001b[0;32m   2409\u001b[0m     \u001b[39mdef\u001b[39;00m \u001b[39mformat_cache_file_name\u001b[39m(cache_file_name, rank):\n",
      "File \u001b[1;32mc:\\Users\\Miki\\AppData\\Local\\Programs\\Python\\Python310\\lib\\site-packages\\datasets\\arrow_dataset.py:557\u001b[0m, in \u001b[0;36mtransmit_tasks.<locals>.wrapper\u001b[1;34m(*args, **kwargs)\u001b[0m\n\u001b[0;32m    555\u001b[0m     \u001b[39mself\u001b[39m: \u001b[39m\"\u001b[39m\u001b[39mDataset\u001b[39m\u001b[39m\"\u001b[39m \u001b[39m=\u001b[39m kwargs\u001b[39m.\u001b[39mpop(\u001b[39m\"\u001b[39m\u001b[39mself\u001b[39m\u001b[39m\"\u001b[39m)\n\u001b[0;32m    556\u001b[0m \u001b[39m# apply actual function\u001b[39;00m\n\u001b[1;32m--> 557\u001b[0m out: Union[\u001b[39m\"\u001b[39m\u001b[39mDataset\u001b[39m\u001b[39m\"\u001b[39m, \u001b[39m\"\u001b[39m\u001b[39mDatasetDict\u001b[39m\u001b[39m\"\u001b[39m] \u001b[39m=\u001b[39m func(\u001b[39mself\u001b[39m, \u001b[39m*\u001b[39margs, \u001b[39m*\u001b[39m\u001b[39m*\u001b[39mkwargs)\n\u001b[0;32m    558\u001b[0m datasets: List[\u001b[39m\"\u001b[39m\u001b[39mDataset\u001b[39m\u001b[39m\"\u001b[39m] \u001b[39m=\u001b[39m \u001b[39mlist\u001b[39m(out\u001b[39m.\u001b[39mvalues()) \u001b[39mif\u001b[39;00m \u001b[39misinstance\u001b[39m(out, \u001b[39mdict\u001b[39m) \u001b[39melse\u001b[39;00m [out]\n\u001b[0;32m    559\u001b[0m \u001b[39mfor\u001b[39;00m dataset \u001b[39min\u001b[39;00m datasets:\n\u001b[0;32m    560\u001b[0m     \u001b[39m# Remove task templates if a column mapping of the template is no longer valid\u001b[39;00m\n",
      "File \u001b[1;32mc:\\Users\\Miki\\AppData\\Local\\Programs\\Python\\Python310\\lib\\site-packages\\datasets\\arrow_dataset.py:524\u001b[0m, in \u001b[0;36mtransmit_format.<locals>.wrapper\u001b[1;34m(*args, **kwargs)\u001b[0m\n\u001b[0;32m    517\u001b[0m self_format \u001b[39m=\u001b[39m {\n\u001b[0;32m    518\u001b[0m     \u001b[39m\"\u001b[39m\u001b[39mtype\u001b[39m\u001b[39m\"\u001b[39m: \u001b[39mself\u001b[39m\u001b[39m.\u001b[39m_format_type,\n\u001b[0;32m    519\u001b[0m     \u001b[39m\"\u001b[39m\u001b[39mformat_kwargs\u001b[39m\u001b[39m\"\u001b[39m: \u001b[39mself\u001b[39m\u001b[39m.\u001b[39m_format_kwargs,\n\u001b[0;32m    520\u001b[0m     \u001b[39m\"\u001b[39m\u001b[39mcolumns\u001b[39m\u001b[39m\"\u001b[39m: \u001b[39mself\u001b[39m\u001b[39m.\u001b[39m_format_columns,\n\u001b[0;32m    521\u001b[0m     \u001b[39m\"\u001b[39m\u001b[39moutput_all_columns\u001b[39m\u001b[39m\"\u001b[39m: \u001b[39mself\u001b[39m\u001b[39m.\u001b[39m_output_all_columns,\n\u001b[0;32m    522\u001b[0m }\n\u001b[0;32m    523\u001b[0m \u001b[39m# apply actual function\u001b[39;00m\n\u001b[1;32m--> 524\u001b[0m out: Union[\u001b[39m\"\u001b[39m\u001b[39mDataset\u001b[39m\u001b[39m\"\u001b[39m, \u001b[39m\"\u001b[39m\u001b[39mDatasetDict\u001b[39m\u001b[39m\"\u001b[39m] \u001b[39m=\u001b[39m func(\u001b[39mself\u001b[39m, \u001b[39m*\u001b[39margs, \u001b[39m*\u001b[39m\u001b[39m*\u001b[39mkwargs)\n\u001b[0;32m    525\u001b[0m datasets: List[\u001b[39m\"\u001b[39m\u001b[39mDataset\u001b[39m\u001b[39m\"\u001b[39m] \u001b[39m=\u001b[39m \u001b[39mlist\u001b[39m(out\u001b[39m.\u001b[39mvalues()) \u001b[39mif\u001b[39;00m \u001b[39misinstance\u001b[39m(out, \u001b[39mdict\u001b[39m) \u001b[39melse\u001b[39;00m [out]\n\u001b[0;32m    526\u001b[0m \u001b[39m# re-apply format to the output\u001b[39;00m\n",
      "File \u001b[1;32mc:\\Users\\Miki\\AppData\\Local\\Programs\\Python\\Python310\\lib\\site-packages\\datasets\\fingerprint.py:480\u001b[0m, in \u001b[0;36mfingerprint_transform.<locals>._fingerprint.<locals>.wrapper\u001b[1;34m(*args, **kwargs)\u001b[0m\n\u001b[0;32m    476\u001b[0m             validate_fingerprint(kwargs[fingerprint_name])\n\u001b[0;32m    478\u001b[0m \u001b[39m# Call actual function\u001b[39;00m\n\u001b[1;32m--> 480\u001b[0m out \u001b[39m=\u001b[39m func(\u001b[39mself\u001b[39m, \u001b[39m*\u001b[39margs, \u001b[39m*\u001b[39m\u001b[39m*\u001b[39mkwargs)\n\u001b[0;32m    482\u001b[0m \u001b[39m# Update fingerprint of in-place transforms + update in-place history of transforms\u001b[39;00m\n\u001b[0;32m    484\u001b[0m \u001b[39mif\u001b[39;00m inplace:  \u001b[39m# update after calling func so that the fingerprint doesn't change if the function fails\u001b[39;00m\n",
      "File \u001b[1;32mc:\\Users\\Miki\\AppData\\Local\\Programs\\Python\\Python310\\lib\\site-packages\\datasets\\arrow_dataset.py:2775\u001b[0m, in \u001b[0;36mDataset._map_single\u001b[1;34m(self, function, with_indices, with_rank, input_columns, batched, batch_size, drop_last_batch, remove_columns, keep_in_memory, load_from_cache_file, cache_file_name, writer_batch_size, features, disable_nullable, fn_kwargs, new_fingerprint, rank, offset, disable_tqdm, desc, cache_only)\u001b[0m\n\u001b[0;32m   2771\u001b[0m indices \u001b[39m=\u001b[39m \u001b[39mlist\u001b[39m(\n\u001b[0;32m   2772\u001b[0m     \u001b[39mrange\u001b[39m(\u001b[39m*\u001b[39m(\u001b[39mslice\u001b[39m(i, i \u001b[39m+\u001b[39m batch_size)\u001b[39m.\u001b[39mindices(input_dataset\u001b[39m.\u001b[39mnum_rows)))\n\u001b[0;32m   2773\u001b[0m )  \u001b[39m# Something simpler?\u001b[39;00m\n\u001b[0;32m   2774\u001b[0m \u001b[39mtry\u001b[39;00m:\n\u001b[1;32m-> 2775\u001b[0m     batch \u001b[39m=\u001b[39m apply_function_on_filtered_inputs(\n\u001b[0;32m   2776\u001b[0m         batch,\n\u001b[0;32m   2777\u001b[0m         indices,\n\u001b[0;32m   2778\u001b[0m         check_same_num_examples\u001b[39m=\u001b[39;49m\u001b[39mlen\u001b[39;49m(input_dataset\u001b[39m.\u001b[39;49mlist_indexes()) \u001b[39m>\u001b[39;49m \u001b[39m0\u001b[39;49m,\n\u001b[0;32m   2779\u001b[0m         offset\u001b[39m=\u001b[39;49moffset,\n\u001b[0;32m   2780\u001b[0m     )\n\u001b[0;32m   2781\u001b[0m \u001b[39mexcept\u001b[39;00m NumExamplesMismatchError:\n\u001b[0;32m   2782\u001b[0m     \u001b[39mraise\u001b[39;00m DatasetTransformationNotAllowedError(\n\u001b[0;32m   2783\u001b[0m         \u001b[39m\"\u001b[39m\u001b[39mUsing `.map` in batched mode on a dataset with attached indexes is allowed only if it doesn\u001b[39m\u001b[39m'\u001b[39m\u001b[39mt create or remove existing examples. You can first run `.drop_index() to remove your index and then re-add it.\u001b[39m\u001b[39m\"\u001b[39m\n\u001b[0;32m   2784\u001b[0m     ) \u001b[39mfrom\u001b[39;00m \u001b[39mNone\u001b[39m\n",
      "File \u001b[1;32mc:\\Users\\Miki\\AppData\\Local\\Programs\\Python\\Python310\\lib\\site-packages\\datasets\\arrow_dataset.py:2655\u001b[0m, in \u001b[0;36mDataset._map_single.<locals>.apply_function_on_filtered_inputs\u001b[1;34m(inputs, indices, check_same_num_examples, offset)\u001b[0m\n\u001b[0;32m   2653\u001b[0m \u001b[39mif\u001b[39;00m with_rank:\n\u001b[0;32m   2654\u001b[0m     additional_args \u001b[39m+\u001b[39m\u001b[39m=\u001b[39m (rank,)\n\u001b[1;32m-> 2655\u001b[0m processed_inputs \u001b[39m=\u001b[39m function(\u001b[39m*\u001b[39mfn_args, \u001b[39m*\u001b[39madditional_args, \u001b[39m*\u001b[39m\u001b[39m*\u001b[39mfn_kwargs)\n\u001b[0;32m   2656\u001b[0m \u001b[39mif\u001b[39;00m update_data \u001b[39mis\u001b[39;00m \u001b[39mNone\u001b[39;00m:\n\u001b[0;32m   2657\u001b[0m     \u001b[39m# Check if the function returns updated examples\u001b[39;00m\n\u001b[0;32m   2658\u001b[0m     update_data \u001b[39m=\u001b[39m \u001b[39misinstance\u001b[39m(processed_inputs, (Mapping, pa\u001b[39m.\u001b[39mTable))\n",
      "File \u001b[1;32mc:\\Users\\Miki\\AppData\\Local\\Programs\\Python\\Python310\\lib\\site-packages\\datasets\\arrow_dataset.py:2347\u001b[0m, in \u001b[0;36mDataset.map.<locals>.decorate.<locals>.decorated\u001b[1;34m(item, *args, **kwargs)\u001b[0m\n\u001b[0;32m   2343\u001b[0m decorated_item \u001b[39m=\u001b[39m (\n\u001b[0;32m   2344\u001b[0m     Example(item, features\u001b[39m=\u001b[39m\u001b[39mself\u001b[39m\u001b[39m.\u001b[39mfeatures) \u001b[39mif\u001b[39;00m \u001b[39mnot\u001b[39;00m batched \u001b[39melse\u001b[39;00m Batch(item, features\u001b[39m=\u001b[39m\u001b[39mself\u001b[39m\u001b[39m.\u001b[39mfeatures)\n\u001b[0;32m   2345\u001b[0m )\n\u001b[0;32m   2346\u001b[0m \u001b[39m# Use the LazyDict internally, while mapping the function\u001b[39;00m\n\u001b[1;32m-> 2347\u001b[0m result \u001b[39m=\u001b[39m f(decorated_item, \u001b[39m*\u001b[39margs, \u001b[39m*\u001b[39m\u001b[39m*\u001b[39mkwargs)\n\u001b[0;32m   2348\u001b[0m \u001b[39m# Return a standard dict\u001b[39;00m\n\u001b[0;32m   2349\u001b[0m \u001b[39mreturn\u001b[39;00m result\u001b[39m.\u001b[39mdata \u001b[39mif\u001b[39;00m \u001b[39misinstance\u001b[39m(result, LazyDict) \u001b[39melse\u001b[39;00m result\n",
      "File \u001b[1;32mc:\\Users\\Miki\\AppData\\Local\\Programs\\Python\\Python310\\lib\\site-packages\\datasets\\arrow_dataset.py:4931\u001b[0m, in \u001b[0;36mget_indices_from_mask_function\u001b[1;34m(function, batched, with_indices, input_columns, indices_mapping, *args, **fn_kwargs)\u001b[0m\n\u001b[0;32m   4928\u001b[0m \u001b[39mif\u001b[39;00m input_columns \u001b[39mis\u001b[39;00m \u001b[39mNone\u001b[39;00m:\n\u001b[0;32m   4929\u001b[0m     \u001b[39m# inputs only contains a batch of examples\u001b[39;00m\n\u001b[0;32m   4930\u001b[0m     batch: \u001b[39mdict\u001b[39m \u001b[39m=\u001b[39m inputs[\u001b[39m0\u001b[39m]\n\u001b[1;32m-> 4931\u001b[0m     num_examples \u001b[39m=\u001b[39m \u001b[39mlen\u001b[39m(batch[\u001b[39mnext\u001b[39;49m(\u001b[39miter\u001b[39;49m(batch\u001b[39m.\u001b[39;49mkeys()))])\n\u001b[0;32m   4932\u001b[0m     \u001b[39mfor\u001b[39;00m i \u001b[39min\u001b[39;00m \u001b[39mrange\u001b[39m(num_examples):\n\u001b[0;32m   4933\u001b[0m         example \u001b[39m=\u001b[39m {key: batch[key][i] \u001b[39mfor\u001b[39;00m key \u001b[39min\u001b[39;00m batch}\n",
      "File \u001b[1;32mc:\\Users\\Miki\\AppData\\Local\\Programs\\Python\\Python310\\lib\\site-packages\\datasets\\arrow_dataset.py:133\u001b[0m, in \u001b[0;36mBatch.__getitem__\u001b[1;34m(self, key)\u001b[0m\n\u001b[0;32m    131\u001b[0m values \u001b[39m=\u001b[39m \u001b[39msuper\u001b[39m()\u001b[39m.\u001b[39m\u001b[39m__getitem__\u001b[39m(key)\n\u001b[0;32m    132\u001b[0m \u001b[39mif\u001b[39;00m \u001b[39mself\u001b[39m\u001b[39m.\u001b[39mfeatures \u001b[39mand\u001b[39;00m key \u001b[39min\u001b[39;00m \u001b[39mself\u001b[39m\u001b[39m.\u001b[39mfeatures:\n\u001b[1;32m--> 133\u001b[0m     values \u001b[39m=\u001b[39m [\n\u001b[0;32m    134\u001b[0m         decode_nested_example(\u001b[39mself\u001b[39m\u001b[39m.\u001b[39mfeatures[key], value) \u001b[39mif\u001b[39;00m value \u001b[39mis\u001b[39;00m \u001b[39mnot\u001b[39;00m \u001b[39mNone\u001b[39;00m \u001b[39melse\u001b[39;00m \u001b[39mNone\u001b[39;00m \u001b[39mfor\u001b[39;00m value \u001b[39min\u001b[39;00m values\n\u001b[0;32m    135\u001b[0m     ]\n\u001b[0;32m    136\u001b[0m     \u001b[39mself\u001b[39m[key] \u001b[39m=\u001b[39m values\n\u001b[0;32m    137\u001b[0m     \u001b[39mdel\u001b[39;00m \u001b[39mself\u001b[39m\u001b[39m.\u001b[39mfeatures[key]\n",
      "File \u001b[1;32mc:\\Users\\Miki\\AppData\\Local\\Programs\\Python\\Python310\\lib\\site-packages\\datasets\\arrow_dataset.py:134\u001b[0m, in \u001b[0;36m<listcomp>\u001b[1;34m(.0)\u001b[0m\n\u001b[0;32m    131\u001b[0m values \u001b[39m=\u001b[39m \u001b[39msuper\u001b[39m()\u001b[39m.\u001b[39m\u001b[39m__getitem__\u001b[39m(key)\n\u001b[0;32m    132\u001b[0m \u001b[39mif\u001b[39;00m \u001b[39mself\u001b[39m\u001b[39m.\u001b[39mfeatures \u001b[39mand\u001b[39;00m key \u001b[39min\u001b[39;00m \u001b[39mself\u001b[39m\u001b[39m.\u001b[39mfeatures:\n\u001b[0;32m    133\u001b[0m     values \u001b[39m=\u001b[39m [\n\u001b[1;32m--> 134\u001b[0m         decode_nested_example(\u001b[39mself\u001b[39;49m\u001b[39m.\u001b[39;49mfeatures[key], value) \u001b[39mif\u001b[39;00m value \u001b[39mis\u001b[39;00m \u001b[39mnot\u001b[39;00m \u001b[39mNone\u001b[39;00m \u001b[39melse\u001b[39;00m \u001b[39mNone\u001b[39;00m \u001b[39mfor\u001b[39;00m value \u001b[39min\u001b[39;00m values\n\u001b[0;32m    135\u001b[0m     ]\n\u001b[0;32m    136\u001b[0m     \u001b[39mself\u001b[39m[key] \u001b[39m=\u001b[39m values\n\u001b[0;32m    137\u001b[0m     \u001b[39mdel\u001b[39;00m \u001b[39mself\u001b[39m\u001b[39m.\u001b[39mfeatures[key]\n",
      "File \u001b[1;32mc:\\Users\\Miki\\AppData\\Local\\Programs\\Python\\Python310\\lib\\site-packages\\datasets\\features\\features.py:1260\u001b[0m, in \u001b[0;36mdecode_nested_example\u001b[1;34m(schema, obj, token_per_repo_id)\u001b[0m\n\u001b[0;32m   1257\u001b[0m \u001b[39m# Object with special decoding:\u001b[39;00m\n\u001b[0;32m   1258\u001b[0m \u001b[39melif\u001b[39;00m \u001b[39misinstance\u001b[39m(schema, (Audio, Image)):\n\u001b[0;32m   1259\u001b[0m     \u001b[39m# we pass the token to read and decode files from private repositories in streaming mode\u001b[39;00m\n\u001b[1;32m-> 1260\u001b[0m     \u001b[39mreturn\u001b[39;00m schema\u001b[39m.\u001b[39;49mdecode_example(obj, token_per_repo_id\u001b[39m=\u001b[39;49mtoken_per_repo_id) \u001b[39mif\u001b[39;00m obj \u001b[39mis\u001b[39;00m \u001b[39mnot\u001b[39;00m \u001b[39mNone\u001b[39;00m \u001b[39melse\u001b[39;00m \u001b[39mNone\u001b[39;00m\n\u001b[0;32m   1261\u001b[0m \u001b[39mreturn\u001b[39;00m obj\n",
      "File \u001b[1;32mc:\\Users\\Miki\\AppData\\Local\\Programs\\Python\\Python310\\lib\\site-packages\\datasets\\features\\image.py:149\u001b[0m, in \u001b[0;36mImage.decode_example\u001b[1;34m(self, value, token_per_repo_id)\u001b[0m\n\u001b[0;32m    147\u001b[0m             image \u001b[39m=\u001b[39m PIL\u001b[39m.\u001b[39mImage\u001b[39m.\u001b[39mopen(bytes_)\n\u001b[0;32m    148\u001b[0m \u001b[39melse\u001b[39;00m:\n\u001b[1;32m--> 149\u001b[0m     image \u001b[39m=\u001b[39m PIL\u001b[39m.\u001b[39;49mImage\u001b[39m.\u001b[39;49mopen(BytesIO(bytes_))\n\u001b[0;32m    150\u001b[0m image\u001b[39m.\u001b[39mload()  \u001b[39m# to avoid \"Too many open files\" errors\u001b[39;00m\n\u001b[0;32m    151\u001b[0m \u001b[39mreturn\u001b[39;00m image\n",
      "File \u001b[1;32mc:\\Users\\Miki\\AppData\\Local\\Programs\\Python\\Python310\\lib\\site-packages\\PIL\\Image.py:3133\u001b[0m, in \u001b[0;36mopen\u001b[1;34m(fp, mode, formats)\u001b[0m\n\u001b[0;32m   3130\u001b[0m             \u001b[39mraise\u001b[39;00m\n\u001b[0;32m   3131\u001b[0m     \u001b[39mreturn\u001b[39;00m \u001b[39mNone\u001b[39;00m\n\u001b[1;32m-> 3133\u001b[0m im \u001b[39m=\u001b[39m _open_core(fp, filename, prefix, formats)\n\u001b[0;32m   3135\u001b[0m \u001b[39mif\u001b[39;00m im \u001b[39mis\u001b[39;00m \u001b[39mNone\u001b[39;00m:\n\u001b[0;32m   3136\u001b[0m     \u001b[39mif\u001b[39;00m init():\n",
      "File \u001b[1;32mc:\\Users\\Miki\\AppData\\Local\\Programs\\Python\\Python310\\lib\\site-packages\\PIL\\Image.py:3119\u001b[0m, in \u001b[0;36mopen.<locals>._open_core\u001b[1;34m(fp, filename, prefix, formats)\u001b[0m\n\u001b[0;32m   3117\u001b[0m \u001b[39melif\u001b[39;00m result:\n\u001b[0;32m   3118\u001b[0m     fp\u001b[39m.\u001b[39mseek(\u001b[39m0\u001b[39m)\n\u001b[1;32m-> 3119\u001b[0m     im \u001b[39m=\u001b[39m factory(fp, filename)\n\u001b[0;32m   3120\u001b[0m     _decompression_bomb_check(im\u001b[39m.\u001b[39msize)\n\u001b[0;32m   3121\u001b[0m     \u001b[39mreturn\u001b[39;00m im\n",
      "File \u001b[1;32mc:\\Users\\Miki\\AppData\\Local\\Programs\\Python\\Python310\\lib\\site-packages\\PIL\\ImageFile.py:116\u001b[0m, in \u001b[0;36mImageFile.__init__\u001b[1;34m(self, fp, filename)\u001b[0m\n\u001b[0;32m    114\u001b[0m \u001b[39mtry\u001b[39;00m:\n\u001b[0;32m    115\u001b[0m     \u001b[39mtry\u001b[39;00m:\n\u001b[1;32m--> 116\u001b[0m         \u001b[39mself\u001b[39;49m\u001b[39m.\u001b[39;49m_open()\n\u001b[0;32m    117\u001b[0m     \u001b[39mexcept\u001b[39;00m (\n\u001b[0;32m    118\u001b[0m         \u001b[39mIndexError\u001b[39;00m,  \u001b[39m# end of data\u001b[39;00m\n\u001b[0;32m    119\u001b[0m         \u001b[39mTypeError\u001b[39;00m,  \u001b[39m# end of data (ord)\u001b[39;00m\n\u001b[1;32m   (...)\u001b[0m\n\u001b[0;32m    122\u001b[0m         struct\u001b[39m.\u001b[39merror,\n\u001b[0;32m    123\u001b[0m     ) \u001b[39mas\u001b[39;00m v:\n\u001b[0;32m    124\u001b[0m         \u001b[39mraise\u001b[39;00m \u001b[39mSyntaxError\u001b[39;00m(v) \u001b[39mfrom\u001b[39;00m \u001b[39mv\u001b[39;00m\n",
      "File \u001b[1;32mc:\\Users\\Miki\\AppData\\Local\\Programs\\Python\\Python310\\lib\\site-packages\\PIL\\PngImagePlugin.py:730\u001b[0m, in \u001b[0;36mPngImageFile._open\u001b[1;34m(self)\u001b[0m\n\u001b[0;32m    727\u001b[0m cid, pos, length \u001b[39m=\u001b[39m \u001b[39mself\u001b[39m\u001b[39m.\u001b[39mpng\u001b[39m.\u001b[39mread()\n\u001b[0;32m    729\u001b[0m \u001b[39mtry\u001b[39;00m:\n\u001b[1;32m--> 730\u001b[0m     s \u001b[39m=\u001b[39m \u001b[39mself\u001b[39;49m\u001b[39m.\u001b[39;49mpng\u001b[39m.\u001b[39;49mcall(cid, pos, length)\n\u001b[0;32m    731\u001b[0m \u001b[39mexcept\u001b[39;00m \u001b[39mEOFError\u001b[39;00m:\n\u001b[0;32m    732\u001b[0m     \u001b[39mbreak\u001b[39;00m\n",
      "File \u001b[1;32mc:\\Users\\Miki\\AppData\\Local\\Programs\\Python\\Python310\\lib\\site-packages\\PIL\\PngImagePlugin.py:202\u001b[0m, in \u001b[0;36mChunkStream.call\u001b[1;34m(self, cid, pos, length)\u001b[0m\n\u001b[0;32m    199\u001b[0m \u001b[39m\"\"\"Call the appropriate chunk handler\"\"\"\u001b[39;00m\n\u001b[0;32m    201\u001b[0m logger\u001b[39m.\u001b[39mdebug(\u001b[39m\"\u001b[39m\u001b[39mSTREAM \u001b[39m\u001b[39m%r\u001b[39;00m\u001b[39m \u001b[39m\u001b[39m%s\u001b[39;00m\u001b[39m \u001b[39m\u001b[39m%s\u001b[39;00m\u001b[39m\"\u001b[39m, cid, pos, length)\n\u001b[1;32m--> 202\u001b[0m \u001b[39mreturn\u001b[39;00m \u001b[39mgetattr\u001b[39;49m(\u001b[39mself\u001b[39;49m, \u001b[39m\"\u001b[39;49m\u001b[39mchunk_\u001b[39;49m\u001b[39m\"\u001b[39;49m \u001b[39m+\u001b[39;49m cid\u001b[39m.\u001b[39;49mdecode(\u001b[39m\"\u001b[39;49m\u001b[39mascii\u001b[39;49m\u001b[39m\"\u001b[39;49m))(pos, length)\n",
      "File \u001b[1;32mc:\\Users\\Miki\\AppData\\Local\\Programs\\Python\\Python310\\lib\\site-packages\\PIL\\PngImagePlugin.py:412\u001b[0m, in \u001b[0;36mPngStream.chunk_iCCP\u001b[1;34m(self, pos, length)\u001b[0m\n\u001b[0;32m    410\u001b[0m     \u001b[39mraise\u001b[39;00m \u001b[39mSyntaxError\u001b[39;00m(\u001b[39mf\u001b[39m\u001b[39m\"\u001b[39m\u001b[39mUnknown compression method \u001b[39m\u001b[39m{\u001b[39;00mcomp_method\u001b[39m}\u001b[39;00m\u001b[39m in iCCP chunk\u001b[39m\u001b[39m\"\u001b[39m)\n\u001b[0;32m    411\u001b[0m \u001b[39mtry\u001b[39;00m:\n\u001b[1;32m--> 412\u001b[0m     icc_profile \u001b[39m=\u001b[39m _safe_zlib_decompress(s[i \u001b[39m+\u001b[39;49m \u001b[39m2\u001b[39;49m :])\n\u001b[0;32m    413\u001b[0m \u001b[39mexcept\u001b[39;00m \u001b[39mValueError\u001b[39;00m:\n\u001b[0;32m    414\u001b[0m     \u001b[39mif\u001b[39;00m ImageFile\u001b[39m.\u001b[39mLOAD_TRUNCATED_IMAGES:\n",
      "File \u001b[1;32mc:\\Users\\Miki\\AppData\\Local\\Programs\\Python\\Python310\\lib\\site-packages\\PIL\\PngImagePlugin.py:148\u001b[0m, in \u001b[0;36m_safe_zlib_decompress\u001b[1;34m(s)\u001b[0m\n\u001b[0;32m    146\u001b[0m plaintext \u001b[39m=\u001b[39m dobj\u001b[39m.\u001b[39mdecompress(s, MAX_TEXT_CHUNK)\n\u001b[0;32m    147\u001b[0m \u001b[39mif\u001b[39;00m dobj\u001b[39m.\u001b[39munconsumed_tail:\n\u001b[1;32m--> 148\u001b[0m     \u001b[39mraise\u001b[39;00m \u001b[39mValueError\u001b[39;00m(\u001b[39m\"\u001b[39m\u001b[39mDecompressed Data Too Large\u001b[39m\u001b[39m\"\u001b[39m)\n\u001b[0;32m    149\u001b[0m \u001b[39mreturn\u001b[39;00m plaintext\n",
      "\u001b[1;31mValueError\u001b[0m: Decompressed Data Too Large"
     ]
    }
   ],
   "source": [
    "def filterhu(d):\n",
    "    return 'hu' in d['language']\n",
    "hu_dataset=small_dataset.filter(lambda row: filterhu(row))"
   ]
  }
 ],
 "metadata": {
  "kernelspec": {
   "display_name": "Python 3.10.6 64-bit",
   "language": "python",
   "name": "python3"
  },
  "language_info": {
   "codemirror_mode": {
    "name": "ipython",
    "version": 3
   },
   "file_extension": ".py",
   "mimetype": "text/x-python",
   "name": "python",
   "nbconvert_exporter": "python",
   "pygments_lexer": "ipython3",
   "version": "3.10.6"
  },
  "orig_nbformat": 4,
  "vscode": {
   "interpreter": {
    "hash": "eeb4052d4966a9973745426f1b51f2530426dad2402a261b07ddacf10af6d92f"
   }
  }
 },
 "nbformat": 4,
 "nbformat_minor": 2
}
