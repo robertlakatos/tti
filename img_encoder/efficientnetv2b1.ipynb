{
 "cells": [
  {
   "cell_type": "code",
   "execution_count": 40,
   "metadata": {},
   "outputs": [],
   "source": [
    "import pprint\n",
    "pp = pprint.PrettyPrinter(indent=4, width=200, depth=None, stream=None, compact=False, sort_dicts=False)"
   ]
  },
  {
   "cell_type": "code",
   "execution_count": 6,
   "metadata": {},
   "outputs": [],
   "source": [
    "from tensorflow.keras.applications import EfficientNetV2B1\n",
    "model = EfficientNetV2B1(include_top=False, pooling='avg', weights='imagenet')\n",
    "model.trainable = False"
   ]
  },
  {
   "cell_type": "code",
   "execution_count": 7,
   "metadata": {},
   "outputs": [
    {
     "name": "stdout",
     "output_type": "stream",
     "text": [
      "<keras.layers.pooling.global_average_pooling2d.GlobalAveragePooling2D object at 0x000002532E70B490>\n"
     ]
    }
   ],
   "source": [
    "print(model.get_layer('avg_pool'))"
   ]
  },
  {
   "cell_type": "code",
   "execution_count": null,
   "metadata": {},
   "outputs": [],
   "source": [
    "#model.summary()"
   ]
  },
  {
   "cell_type": "code",
   "execution_count": 8,
   "metadata": {},
   "outputs": [],
   "source": [
    "from keras.models import Model\n",
    "my_model= Model(inputs=model.input, outputs=model.get_layer('avg_pool').output)"
   ]
  },
  {
   "cell_type": "code",
   "execution_count": null,
   "metadata": {},
   "outputs": [],
   "source": [
    "#my_model.summary()"
   ]
  },
  {
   "cell_type": "code",
   "execution_count": 2,
   "metadata": {},
   "outputs": [],
   "source": [
    "import cv2\n",
    "import numpy as np\n",
    "import pandas as pd\n",
    "import os\n",
    "from matplotlib.pyplot import imread\n",
    "from matplotlib.pyplot import imshow\n",
    "from tensorflow.keras.preprocessing import image\n",
    "from tensorflow.keras.applications.imagenet_utils import decode_predictions, preprocess_input\n"
   ]
  },
  {
   "cell_type": "code",
   "execution_count": 5,
   "metadata": {},
   "outputs": [
    {
     "data": {
      "text/html": [
       "<div>\n",
       "<style scoped>\n",
       "    .dataframe tbody tr th:only-of-type {\n",
       "        vertical-align: middle;\n",
       "    }\n",
       "\n",
       "    .dataframe tbody tr th {\n",
       "        vertical-align: top;\n",
       "    }\n",
       "\n",
       "    .dataframe thead th {\n",
       "        text-align: right;\n",
       "    }\n",
       "</style>\n",
       "<table border=\"1\" class=\"dataframe\">\n",
       "  <thead>\n",
       "    <tr style=\"text-align: right;\">\n",
       "      <th></th>\n",
       "      <th>image</th>\n",
       "      <th>caption</th>\n",
       "      <th>id</th>\n",
       "    </tr>\n",
       "  </thead>\n",
       "  <tbody>\n",
       "    <tr>\n",
       "      <th>40450</th>\n",
       "      <td>997722733_0cb5439472.jpg</td>\n",
       "      <td>Egy rózsaszín inges férfi felmászik egy szikla...</td>\n",
       "      <td>8090</td>\n",
       "    </tr>\n",
       "    <tr>\n",
       "      <th>40451</th>\n",
       "      <td>997722733_0cb5439472.jpg</td>\n",
       "      <td>Egy férfi sziklát mászik a magasban a levegőben.</td>\n",
       "      <td>8090</td>\n",
       "    </tr>\n",
       "    <tr>\n",
       "      <th>40452</th>\n",
       "      <td>997722733_0cb5439472.jpg</td>\n",
       "      <td>Egy piros inges személy felkapaszkodik egy seg...</td>\n",
       "      <td>8090</td>\n",
       "    </tr>\n",
       "    <tr>\n",
       "      <th>40453</th>\n",
       "      <td>997722733_0cb5439472.jpg</td>\n",
       "      <td>Egy sziklamászó piros ingben.</td>\n",
       "      <td>8090</td>\n",
       "    </tr>\n",
       "    <tr>\n",
       "      <th>40454</th>\n",
       "      <td>997722733_0cb5439472.jpg</td>\n",
       "      <td>Egy sziklamászó egy sziklamászófalon gyakorol.</td>\n",
       "      <td>8090</td>\n",
       "    </tr>\n",
       "  </tbody>\n",
       "</table>\n",
       "</div>"
      ],
      "text/plain": [
       "                          image  \\\n",
       "40450  997722733_0cb5439472.jpg   \n",
       "40451  997722733_0cb5439472.jpg   \n",
       "40452  997722733_0cb5439472.jpg   \n",
       "40453  997722733_0cb5439472.jpg   \n",
       "40454  997722733_0cb5439472.jpg   \n",
       "\n",
       "                                                 caption    id  \n",
       "40450  Egy rózsaszín inges férfi felmászik egy szikla...  8090  \n",
       "40451   Egy férfi sziklát mászik a magasban a levegőben.  8090  \n",
       "40452  Egy piros inges személy felkapaszkodik egy seg...  8090  \n",
       "40453                      Egy sziklamászó piros ingben.  8090  \n",
       "40454     Egy sziklamászó egy sziklamászófalon gyakorol.  8090  "
      ]
     },
     "execution_count": 5,
     "metadata": {},
     "output_type": "execute_result"
    }
   ],
   "source": [
    "df = pd.read_csv(\"captions_hu.txt\",sep=\"|\")\n",
    "df['id'] = [id_ for id_ in range(df.shape[0] // 5) for _ in range(5)]\n",
    "df.to_csv(\"captions.csv\", index=False)\n",
    "df = pd.read_csv(\"captions.csv\")\n",
    "df.head()\n",
    "df.tail()"
   ]
  },
  {
   "cell_type": "code",
   "execution_count": 10,
   "metadata": {},
   "outputs": [],
   "source": [
    "path = 'Images/'\n",
    "filenames = os.listdir('Images')\n",
    "#print(filenames)\n",
    "im_size = 240\n",
    "\n",
    "images = []\n",
    "\n",
    "   \n",
    "for f in filenames:\n",
    "    #print(path + f)\n",
    "    img = cv2.imread(path + f)\n",
    "    img = cv2.resize(img, (im_size, im_size))\n",
    "    images.append(img)\n"
   ]
  },
  {
   "cell_type": "code",
   "execution_count": 11,
   "metadata": {},
   "outputs": [
    {
     "data": {
      "text/plain": [
       "(8091, 224, 224, 3)"
      ]
     },
     "execution_count": 11,
     "metadata": {},
     "output_type": "execute_result"
    }
   ],
   "source": [
    "images = np.array(images)\n",
    "\n",
    "images = images.astype('float32') / 255.0\n",
    "images.shape"
   ]
  },
  {
   "cell_type": "code",
   "execution_count": null,
   "metadata": {},
   "outputs": [],
   "source": [
    "outputs = []\n",
    "for i in range(len(images)):\n",
    "    print(i, end=\"\\r\")\n",
    "    outputs.append(my_model(images[i]))\n",
    "\n",
    "#pp.pprint(outputs)    "
   ]
  },
  {
   "cell_type": "code",
   "execution_count": 30,
   "metadata": {},
   "outputs": [
    {
     "name": "stdout",
     "output_type": "stream",
     "text": [
      "(8091, 1, 1280)\n"
     ]
    }
   ],
   "source": [
    "outputs_np = np.array(outputs, dtype=\"float32\")\n",
    "print(outputs_np.shape)\n",
    "outputs_np.tofile(\"img_embs_8k.bin\")"
   ]
  },
  {
   "cell_type": "code",
   "execution_count": 32,
   "metadata": {},
   "outputs": [
    {
     "name": "stdout",
     "output_type": "stream",
     "text": [
      "(8091, 1, 1280)\n"
     ]
    }
   ],
   "source": [
    "input = np.fromfile('img_embs_8k.bin', dtype='float32')\n",
    "input = np.reshape(input,(8091, 1, 1280),)\n",
    "print(input.shape)"
   ]
  },
  {
   "cell_type": "code",
   "execution_count": 33,
   "metadata": {},
   "outputs": [
    {
     "name": "stdout",
     "output_type": "stream",
     "text": [
      "True\n"
     ]
    }
   ],
   "source": [
    "print(numpy.array_equal(outputs_np,input))"
   ]
  },
  {
   "cell_type": "markdown",
   "metadata": {},
   "source": [
    "#old\n",
    "\n",
    "img_path='img.jpg'\n",
    "my_img=imread(img_path)\n",
    "#imshow(my_img)\n",
    "\n",
    "SIZE = 224\n",
    "\n",
    "img = cv2.imread(img_path)\n",
    "img = cv2.cvtColor(img, cv2.COLOR_BGR2RGB)\n",
    "h = SIZE # img.shape[0] - h - fixed\n",
    "w = round(img.shape[1]*(h/img.shape[0])) # keeps the ratio\n",
    "new_img = cv2.resize(img, (w,h))\n",
    "w_start=round((w-h)/2)\n",
    "w_end=w_start+SIZE\n",
    "crop_img = new_img[0:SIZE, w_start:w_end]\n",
    "imshow(crop_img)\n",
    "\n",
    "x = np.expand_dims(crop_img,axis=0)\n",
    "x = preprocess_input(x)\n",
    "\n",
    "print('input image shape:', x.shape)"
   ]
  },
  {
   "cell_type": "markdown",
   "metadata": {},
   "source": [
    "#old\n",
    "\n",
    "img_path='img.jpg'\n",
    "my_img=imread(img_path)\n",
    "imshow(my_img)"
   ]
  },
  {
   "cell_type": "markdown",
   "metadata": {},
   "source": [
    "#old\n",
    "\n",
    "outputs = my_model(my_img)"
   ]
  },
  {
   "cell_type": "markdown",
   "metadata": {},
   "source": [
    "#old\n",
    "\n",
    "pp.pprint(outputs)"
   ]
  }
 ],
 "metadata": {
  "kernelspec": {
   "display_name": "Python 3.10.6 64-bit",
   "language": "python",
   "name": "python3"
  },
  "language_info": {
   "codemirror_mode": {
    "name": "ipython",
    "version": 3
   },
   "file_extension": ".py",
   "mimetype": "text/x-python",
   "name": "python",
   "nbconvert_exporter": "python",
   "pygments_lexer": "ipython3",
   "version": "3.10.6"
  },
  "orig_nbformat": 4,
  "vscode": {
   "interpreter": {
    "hash": "26de051ba29f2982a8de78e945f0abaf191376122a1563185a90213a26c5da77"
   }
  }
 },
 "nbformat": 4,
 "nbformat_minor": 2
}
