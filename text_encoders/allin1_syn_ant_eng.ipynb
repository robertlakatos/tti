{
 "cells": [
  {
   "cell_type": "markdown",
   "metadata": {},
   "source": [
    "# all text encoders"
   ]
  },
  {
   "cell_type": "code",
   "execution_count": 22,
   "metadata": {},
   "outputs": [],
   "source": [
    "import pprint\n",
    "pp = pprint.PrettyPrinter(indent=4, width=200, depth=None, stream=None, compact=False, sort_dicts=False)"
   ]
  },
  {
   "cell_type": "code",
   "execution_count": 23,
   "metadata": {},
   "outputs": [],
   "source": [
    "import json\n",
    "\n",
    "with open('../pdf_to_dictionary/english_syn_ant.json', encoding='utf-8') as f:\n",
    "    d = json.load(f)"
   ]
  },
  {
   "cell_type": "code",
   "execution_count": 24,
   "metadata": {},
   "outputs": [],
   "source": [
    "import numpy as np\n",
    "from numpy.linalg import norm\n",
    "\n",
    "def my_cosine_similarity(A, B):\n",
    "    return np.dot(A,B)/(norm(A)*norm(B))"
   ]
  },
  {
   "cell_type": "code",
   "execution_count": 25,
   "metadata": {},
   "outputs": [],
   "source": [
    "# make smaller test dict\n",
    "d_keys_li=list(d.keys())\n",
    "smaller_dict={}\n",
    "for i in range(0,10):\n",
    "    smaller_dict[d_keys_li[i]]=d[d_keys_li[i]]\n",
    "# pp.pprint(smaller_dict)"
   ]
  },
  {
   "cell_type": "code",
   "execution_count": 26,
   "metadata": {},
   "outputs": [],
   "source": [
    "# d - full test disctionary\n",
    "# smaller_dict - 10 key dictionary\n",
    "DICT = smaller_dict\n",
    "#DICT = d"
   ]
  },
  {
   "cell_type": "code",
   "execution_count": 27,
   "metadata": {},
   "outputs": [
    {
     "name": "stdout",
     "output_type": "stream",
     "text": [
      "aback ['backwards', 'rearwards', 'aft', 'abaft', 'astern', 'behind', 'back'] ['onwards', 'forwards', 'ahead', 'before', 'afront', 'beyond', 'afore']\n"
     ]
    }
   ],
   "source": [
    "for baseword,v in DICT.items():\n",
    "    print(baseword,v[\"syn\"],v[\"ant\"])\n",
    "    break"
   ]
  },
  {
   "cell_type": "code",
   "execution_count": 28,
   "metadata": {},
   "outputs": [],
   "source": [
    "def get_avg_res_bert(tokenizer, model):\n",
    "    from scipy.spatial import distance\n",
    "    import numpy as np\n",
    "    sum_syn=0\n",
    "    sum_ant=0\n",
    "    cnt_syn=0\n",
    "    cnt_ant=0\n",
    "\n",
    "    sum=0\n",
    "    cnt=0\n",
    "    avg=0\n",
    "\n",
    "    for baseword,v in DICT.items():\n",
    "        encoded_input_base=tokenizer(baseword,return_tensors='pt')\n",
    "        output_base = model(**encoded_input_base)\n",
    "        embedded_base_avg=np.average(output_base.last_hidden_state[0].detach().numpy(), axis=0)\n",
    "\n",
    "        for synonym in v[\"syn\"]:\n",
    "            encoded_input_synonym=tokenizer(synonym,return_tensors='pt')\n",
    "            output_synonym = model(**encoded_input_synonym)\n",
    "            embedded_synonym_avg=np.average(output_synonym.last_hidden_state[0].detach().numpy(), axis=0)\n",
    "            sim_syn=my_cosine_similarity(embedded_base_avg,embedded_synonym_avg)\n",
    "            sum_syn=sum_syn+sim_syn\n",
    "            cnt_syn=cnt_syn+1\n",
    "        \n",
    "        for antonym in v[\"ant\"]:\n",
    "            encoded_input_antonym=tokenizer(antonym,return_tensors='pt')\n",
    "            output_antonym = model(**encoded_input_antonym)\n",
    "            embedded_antonym_avg=np.average(output_antonym.last_hidden_state[0].detach().numpy(), axis=0)\n",
    "            sim_ant=my_cosine_similarity(embedded_base_avg,embedded_antonym_avg)\n",
    "            sum_ant=sum_ant+sim_ant\n",
    "            cnt_ant=cnt_ant+1\n",
    "            \n",
    "        print(cnt_syn, cnt_ant, end=\"\\r\")\n",
    "           \n",
    "    print(\"syn\", sum_syn/cnt_syn)\n",
    "    print(\"ant\", sum_ant/cnt_ant)"
   ]
  },
  {
   "cell_type": "code",
   "execution_count": 29,
   "metadata": {},
   "outputs": [],
   "source": [
    "def get_avg_res_other(tokenizer, model):\n",
    "    from scipy.spatial import distance\n",
    "    import numpy as np\n",
    "    sum_syn=0\n",
    "    sum_ant=0\n",
    "    cnt_syn=0\n",
    "    cnt_ant=0\n",
    "\n",
    "    sum=0\n",
    "    cnt=0\n",
    "    avg=0\n",
    "\n",
    "    for baseword,v in DICT.items():\n",
    "        encoded_input_base=tokenizer(baseword,return_tensors='pt')\n",
    "        output_base = model(**encoded_input_base,output_hidden_states=True)\n",
    "        output_base_np=output_base.hidden_states[-1][0].detach().numpy()\n",
    "        embedded_base_avg=np.average(output_base_np, axis=0)\n",
    "\n",
    "        for synonym in v[\"syn\"]:\n",
    "            encoded_input_synonym=tokenizer(synonym,return_tensors='pt')\n",
    "            output_synonym = model(**encoded_input_synonym,output_hidden_states=True)\n",
    "            output_synonym_np=output_synonym.hidden_states[-1][0].detach().numpy()\n",
    "            embedded_synonym_avg=np.average(output_synonym_np, axis=0)\n",
    "            sim_syn=my_cosine_similarity(embedded_base_avg,embedded_synonym_avg)\n",
    "            sum_syn=sum_syn+sim_syn\n",
    "            cnt_syn=cnt_syn+1\n",
    "        \n",
    "        for antonym in v[\"ant\"]:\n",
    "            encoded_input_antonym=tokenizer(antonym,return_tensors='pt')\n",
    "            output_antonym = model(**encoded_input_antonym,output_hidden_states=True)\n",
    "            output_antonym_np=output_antonym.hidden_states[-1][0].detach().numpy()\n",
    "            embedded_antonym_avg=np.average(output_antonym_np, axis=0)\n",
    "            sim_ant=my_cosine_similarity(embedded_base_avg,embedded_antonym_avg)\n",
    "            sum_ant=sum_ant+sim_ant\n",
    "            cnt_ant=cnt_ant+1\n",
    "            \n",
    "        print(cnt_syn, cnt_ant, end=\"\\r\")\n",
    "           \n",
    "    print(\"syn\", sum_syn/cnt_syn)\n",
    "    print(\"ant\", sum_ant/cnt_ant)"
   ]
  },
  {
   "cell_type": "code",
   "execution_count": 30,
   "metadata": {},
   "outputs": [
    {
     "name": "stderr",
     "output_type": "stream",
     "text": [
      "Some weights of the model checkpoint at bert-base-multilingual-uncased were not used when initializing BertModel: ['cls.seq_relationship.weight', 'cls.predictions.transform.dense.bias', 'cls.predictions.transform.dense.weight', 'cls.predictions.bias', 'cls.seq_relationship.bias', 'cls.predictions.transform.LayerNorm.weight', 'cls.predictions.transform.LayerNorm.bias', 'cls.predictions.decoder.weight']\n",
      "- This IS expected if you are initializing BertModel from the checkpoint of a model trained on another task or with another architecture (e.g. initializing a BertForSequenceClassification model from a BertForPreTraining model).\n",
      "- This IS NOT expected if you are initializing BertModel from the checkpoint of a model that you expect to be exactly identical (initializing a BertForSequenceClassification model from a BertForSequenceClassification model).\n"
     ]
    },
    {
     "name": "stdout",
     "output_type": "stream",
     "text": [
      "syn 0.7700543712585344\n",
      "ant 0.7717551394043681\n"
     ]
    }
   ],
   "source": [
    "# bert-base-multilingual-uncased\n",
    "# Run time: 21m\n",
    "from transformers import BertTokenizer, BertModel\n",
    "\n",
    "tokenizer = BertTokenizer.from_pretrained(\"bert-base-multilingual-uncased\")\n",
    "model = BertModel.from_pretrained(\"bert-base-multilingual-uncased\")\n",
    "\n",
    "get_avg_res_bert(tokenizer,model)"
   ]
  },
  {
   "cell_type": "code",
   "execution_count": 31,
   "metadata": {},
   "outputs": [
    {
     "name": "stderr",
     "output_type": "stream",
     "text": [
      "Some weights of the model checkpoint at bert-base-multilingual-cased were not used when initializing BertModel: ['cls.seq_relationship.weight', 'cls.predictions.transform.dense.bias', 'cls.predictions.transform.dense.weight', 'cls.predictions.bias', 'cls.seq_relationship.bias', 'cls.predictions.transform.LayerNorm.weight', 'cls.predictions.transform.LayerNorm.bias', 'cls.predictions.decoder.weight']\n",
      "- This IS expected if you are initializing BertModel from the checkpoint of a model trained on another task or with another architecture (e.g. initializing a BertForSequenceClassification model from a BertForPreTraining model).\n",
      "- This IS NOT expected if you are initializing BertModel from the checkpoint of a model that you expect to be exactly identical (initializing a BertForSequenceClassification model from a BertForSequenceClassification model).\n"
     ]
    },
    {
     "name": "stdout",
     "output_type": "stream",
     "text": [
      "syn 0.457380204709298\n",
      "ant 0.44675041971919693\n"
     ]
    }
   ],
   "source": [
    "# bert-base-multilingual-cased\n",
    "# Run time: 19m\n",
    "from transformers import BertTokenizer, BertModel\n",
    "\n",
    "tokenizer = BertTokenizer.from_pretrained(\"bert-base-multilingual-cased\")\n",
    "model = BertModel.from_pretrained(\"bert-base-multilingual-cased\")\n",
    "\n",
    "get_avg_res_bert(tokenizer,model)"
   ]
  },
  {
   "cell_type": "code",
   "execution_count": 32,
   "metadata": {},
   "outputs": [
    {
     "name": "stderr",
     "output_type": "stream",
     "text": [
      "Some weights of the model checkpoint at SZTAKI-HLT/hubert-base-cc were not used when initializing BertModel: ['cls.seq_relationship.weight', 'cls.predictions.decoder.bias', 'cls.predictions.transform.dense.bias', 'cls.predictions.transform.dense.weight', 'cls.predictions.bias', 'cls.seq_relationship.bias', 'cls.predictions.transform.LayerNorm.weight', 'cls.predictions.transform.LayerNorm.bias', 'cls.predictions.decoder.weight']\n",
      "- This IS expected if you are initializing BertModel from the checkpoint of a model trained on another task or with another architecture (e.g. initializing a BertForSequenceClassification model from a BertForPreTraining model).\n",
      "- This IS NOT expected if you are initializing BertModel from the checkpoint of a model that you expect to be exactly identical (initializing a BertForSequenceClassification model from a BertForSequenceClassification model).\n"
     ]
    },
    {
     "name": "stdout",
     "output_type": "stream",
     "text": [
      "syn 0.9483029355696582\n",
      "ant 0.9476099771873974\n"
     ]
    }
   ],
   "source": [
    "# hubert-base-cc\n",
    "# Run time: 18m\n",
    "from transformers import AutoModel, AutoTokenizer\n",
    "\n",
    "model = AutoModel.from_pretrained(\"SZTAKI-HLT/hubert-base-cc\")\n",
    "tokenizer = AutoTokenizer.from_pretrained(\"SZTAKI-HLT/hubert-base-cc\")\n",
    "\n",
    "get_avg_res_bert(tokenizer,model)"
   ]
  },
  {
   "cell_type": "code",
   "execution_count": 33,
   "metadata": {},
   "outputs": [
    {
     "name": "stdout",
     "output_type": "stream",
     "text": [
      "syn 0.6119087130651562\n",
      "ant 0.6028744581146775\n"
     ]
    }
   ],
   "source": [
    "# text-generation-news-gpt2-small-hungarian\n",
    "# Run time: 21m\n",
    "from transformers import AutoTokenizer, AutoModelForCausalLM\n",
    "\n",
    "tokenizer = AutoTokenizer.from_pretrained(\"NYTK/text-generation-news-gpt2-small-hungarian\")\n",
    "model = AutoModelForCausalLM.from_pretrained(\"NYTK/text-generation-news-gpt2-small-hungarian\")\n",
    "\n",
    "get_avg_res_other(tokenizer,model)"
   ]
  },
  {
   "cell_type": "code",
   "execution_count": 34,
   "metadata": {},
   "outputs": [
    {
     "name": "stdout",
     "output_type": "stream",
     "text": [
      "syn 0.6081417402543059\n",
      "ant 0.5796928997630271\n"
     ]
    }
   ],
   "source": [
    "# text-generation-poem-petofi-gpt2-small-hungarian\n",
    "# Run time: 21m\n",
    "from transformers import AutoTokenizer, AutoModelForCausalLM\n",
    "\n",
    "tokenizer = AutoTokenizer.from_pretrained(\"NYTK/text-generation-poem-petofi-gpt2-small-hungarian\")\n",
    "model = AutoModelForCausalLM.from_pretrained(\"NYTK/text-generation-poem-petofi-gpt2-small-hungarian\")\n",
    "\n",
    "get_avg_res_other(tokenizer,model)"
   ]
  },
  {
   "cell_type": "code",
   "execution_count": 35,
   "metadata": {},
   "outputs": [
    {
     "name": "stdout",
     "output_type": "stream",
     "text": [
      "syn 0.8672215375331563\n",
      "ant 0.8712536692619324\n"
     ]
    }
   ],
   "source": [
    "# mGPT\n",
    "# Run time: 234m\n",
    "from transformers import AutoTokenizer, AutoModelForCausalLM\n",
    "\n",
    "tokenizer = AutoTokenizer.from_pretrained(\"sberbank-ai/mGPT\")\n",
    "model = AutoModelForCausalLM.from_pretrained(\"sberbank-ai/mGPT\")\n",
    "\n",
    "get_avg_res_other(tokenizer,model)"
   ]
  },
  {
   "cell_type": "code",
   "execution_count": 36,
   "metadata": {},
   "outputs": [
    {
     "name": "stdout",
     "output_type": "stream",
     "text": [
      "syn 0.3226999066291599\n",
      "ant 0.29995385095233396\n"
     ]
    }
   ],
   "source": [
    "# sentiment-hts2-xlm-roberta-hungarian\n",
    "# Run time: 11m\n",
    "from transformers import AutoTokenizer, AutoModelForSequenceClassification\n",
    "\n",
    "tokenizer = AutoTokenizer.from_pretrained(\"NYTK/sentiment-hts2-xlm-roberta-hungarian\")\n",
    "model = AutoModelForSequenceClassification.from_pretrained(\"NYTK/sentiment-hts2-xlm-roberta-hungarian\")\n",
    "\n",
    "get_avg_res_other(tokenizer,model)"
   ]
  },
  {
   "cell_type": "code",
   "execution_count": 37,
   "metadata": {},
   "outputs": [
    {
     "name": "stdout",
     "output_type": "stream",
     "text": [
      "syn 0.756863523513899\n",
      "ant 0.7665652340260621\n"
     ]
    }
   ],
   "source": [
    "# sentiment-hts5-xlm-roberta-hungarian\n",
    "# Run time: 18m\n",
    "from transformers import AutoTokenizer, AutoModelForSequenceClassification\n",
    "\n",
    "tokenizer = AutoTokenizer.from_pretrained(\"NYTK/sentiment-hts5-xlm-roberta-hungarian\")\n",
    "model = AutoModelForSequenceClassification.from_pretrained(\"NYTK/sentiment-hts5-xlm-roberta-hungarian\")\n",
    "\n",
    "get_avg_res_other(tokenizer,model)"
   ]
  },
  {
   "cell_type": "code",
   "execution_count": 38,
   "metadata": {},
   "outputs": [
    {
     "name": "stdout",
     "output_type": "stream",
     "text": [
      "syn 0.8858766801860354\n",
      "ant 0.8932403487579845\n"
     ]
    }
   ],
   "source": [
    "# sentiment-hts5-hubert-hungarian\n",
    "# Run time: 18m\n",
    "from transformers import AutoTokenizer, AutoModelForSequenceClassification\n",
    "\n",
    "tokenizer = AutoTokenizer.from_pretrained(\"NYTK/sentiment-hts5-hubert-hungarian\")\n",
    "model = AutoModelForSequenceClassification.from_pretrained(\"NYTK/sentiment-hts5-hubert-hungarian\")\n",
    "\n",
    "get_avg_res_other(tokenizer,model)"
   ]
  },
  {
   "cell_type": "code",
   "execution_count": 39,
   "metadata": {},
   "outputs": [
    {
     "name": "stdout",
     "output_type": "stream",
     "text": [
      "syn 0.7766083659382041\n",
      "ant 0.7802397848289704\n"
     ]
    }
   ],
   "source": [
    "# sentiment-hts2-hubert-hungarian\n",
    "# Run time: 17m\n",
    "from transformers import AutoTokenizer, AutoModelForSequenceClassification\n",
    "\n",
    "tokenizer = AutoTokenizer.from_pretrained(\"NYTK/sentiment-hts2-hubert-hungarian\")\n",
    "model = AutoModelForSequenceClassification.from_pretrained(\"NYTK/sentiment-hts2-hubert-hungarian\")\n",
    "\n",
    "get_avg_res_other(tokenizer,model)"
   ]
  },
  {
   "cell_type": "code",
   "execution_count": 40,
   "metadata": {},
   "outputs": [
    {
     "name": "stdout",
     "output_type": "stream",
     "text": [
      "syn 0.9947209669909346\n",
      "ant 0.9946233507628753\n"
     ]
    }
   ],
   "source": [
    "# xlm-roberta-base\n",
    "# Run time: 43m\n",
    "from transformers import AutoTokenizer, AutoModelForMaskedLM\n",
    "\n",
    "tokenizer = AutoTokenizer.from_pretrained('xlm-roberta-base')\n",
    "model = AutoModelForMaskedLM.from_pretrained(\"xlm-roberta-base\")\n",
    "\n",
    "get_avg_res_other(tokenizer,model)"
   ]
  },
  {
   "cell_type": "code",
   "execution_count": 41,
   "metadata": {},
   "outputs": [
    {
     "name": "stdout",
     "output_type": "stream",
     "text": [
      "syn 0.9950053538751165\n",
      "ant 0.9955205042785573\n"
     ]
    }
   ],
   "source": [
    "# xlm-roberta-large\n",
    "# Run time: 82m\n",
    "from transformers import AutoTokenizer, AutoModelForMaskedLM\n",
    "\n",
    "tokenizer = AutoTokenizer.from_pretrained('xlm-roberta-large')\n",
    "model = AutoModelForMaskedLM.from_pretrained(\"xlm-roberta-large\")\n",
    "\n",
    "get_avg_res_other(tokenizer,model)"
   ]
  },
  {
   "cell_type": "code",
   "execution_count": 42,
   "metadata": {},
   "outputs": [
    {
     "name": "stderr",
     "output_type": "stream",
     "text": [
      "Some weights of XLMWithLMHeadModel were not initialized from the model checkpoint at xlm-mlm-100-1280 and are newly initialized: ['transformer.position_ids']\n",
      "You should probably TRAIN this model on a down-stream task to be able to use it for predictions and inference.\n"
     ]
    },
    {
     "name": "stdout",
     "output_type": "stream",
     "text": [
      "syn 0.5611122723566283\n",
      "ant 0.5727460027855134\n"
     ]
    }
   ],
   "source": [
    "# xlm-mlm-100-1280\n",
    "# Run time: 109m\n",
    "from transformers import XLMTokenizer, XLMWithLMHeadModel\n",
    "import torch\n",
    "\n",
    "tokenizer = XLMTokenizer.from_pretrained(\"xlm-mlm-100-1280\")\n",
    "model = XLMWithLMHeadModel.from_pretrained(\"xlm-mlm-100-1280\")\n",
    "\n",
    "get_avg_res_other(tokenizer,model)"
   ]
  },
  {
   "cell_type": "code",
   "execution_count": 43,
   "metadata": {},
   "outputs": [
    {
     "name": "stdout",
     "output_type": "stream",
     "text": [
      "syn 0.9468308495819022\n",
      "ant 0.947439991425131\n"
     ]
    }
   ],
   "source": [
    "# xlm-roberta-xl\n",
    "from transformers import AutoTokenizer, AutoModelForMaskedLM\n",
    "\n",
    "tokenizer = AutoTokenizer.from_pretrained(\"facebook/xlm-roberta-xl\")\n",
    "model = AutoModelForMaskedLM.from_pretrained(\"facebook/xlm-roberta-xl\")\n",
    "\n",
    "get_avg_res_other(tokenizer,model)"
   ]
  }
 ],
 "metadata": {
  "kernelspec": {
   "display_name": "Python 3.10.6 64-bit",
   "language": "python",
   "name": "python3"
  },
  "language_info": {
   "codemirror_mode": {
    "name": "ipython",
    "version": 3
   },
   "file_extension": ".py",
   "mimetype": "text/x-python",
   "name": "python",
   "nbconvert_exporter": "python",
   "pygments_lexer": "ipython3",
   "version": "3.10.6"
  },
  "vscode": {
   "interpreter": {
    "hash": "26de051ba29f2982a8de78e945f0abaf191376122a1563185a90213a26c5da77"
   }
  }
 },
 "nbformat": 4,
 "nbformat_minor": 4
}
