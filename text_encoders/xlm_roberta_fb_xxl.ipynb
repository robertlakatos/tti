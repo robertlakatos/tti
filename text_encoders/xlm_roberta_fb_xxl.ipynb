{
 "cells": [
  {
   "cell_type": "code",
   "execution_count": 2,
   "metadata": {},
   "outputs": [
    {
     "name": "stderr",
     "output_type": "stream",
     "text": [
      "Downloading tokenizer_config.json: 100%|██████████| 405/405 [00:00<00:00, 203kB/s]\n",
      "Downloading sentencepiece.bpe.model: 100%|██████████| 4.83M/4.83M [00:00<00:00, 7.81MB/s]\n",
      "Downloading tokenizer.json: 100%|██████████| 8.68M/8.68M [00:02<00:00, 3.63MB/s]\n",
      "Downloading special_tokens_map.json: 100%|██████████| 238/238 [00:00<00:00, 119kB/s]\n",
      "Downloading config.json: 100%|██████████| 659/659 [00:00<00:00, 330kB/s]\n",
      "Downloading pytorch_model.bin: 100%|██████████| 13.0G/13.0G [04:40<00:00, 49.6MB/s]\n"
     ]
    }
   ],
   "source": [
    "from transformers import AutoTokenizer, AutoModelForMaskedLM\n",
    "\n",
    "#xxl\n",
    "tokenizer = AutoTokenizer.from_pretrained(\"facebook/xlm-roberta-xl\")\n",
    "model = AutoModelForMaskedLM.from_pretrained(\"facebook/xlm-roberta-xl\")"
   ]
  },
  {
   "cell_type": "code",
   "execution_count": 3,
   "metadata": {},
   "outputs": [],
   "source": [
    "import pprint\n",
    "pp = pprint.PrettyPrinter(indent=4, width=200, depth=None, stream=None, compact=False, sort_dicts=False)"
   ]
  },
  {
   "cell_type": "code",
   "execution_count": 4,
   "metadata": {},
   "outputs": [],
   "source": [
    "hu1 = \"fiú\"\n",
    "encoded_input1 = tokenizer(hu1, return_tensors='pt')\n",
    "output1 = model(**encoded_input1)\n",
    "emb_hu1=output1[0][0][0]\n",
    "\n",
    "hu2 = \"férfi\"\n",
    "encoded_input2 = tokenizer(hu2, return_tensors='pt')\n",
    "output2 = model(**encoded_input2)\n",
    "emb_hu2=output2[0][0][0]"
   ]
  },
  {
   "cell_type": "code",
   "execution_count": 5,
   "metadata": {},
   "outputs": [
    {
     "name": "stdout",
     "output_type": "stream",
     "text": [
      "0.0005529522895812988\n"
     ]
    }
   ],
   "source": [
    "from scipy.spatial import distance\n",
    "\n",
    "print(distance.cosine(emb_hu1.detach().numpy(),emb_hu2.detach().numpy())) #xl 0.0005529522895812988 fiu,ferfi  -  xxl --- fiu,ferfi"
   ]
  }
 ],
 "metadata": {
  "kernelspec": {
   "display_name": "Python 3.10.6 64-bit",
   "language": "python",
   "name": "python3"
  },
  "language_info": {
   "codemirror_mode": {
    "name": "ipython",
    "version": 3
   },
   "file_extension": ".py",
   "mimetype": "text/x-python",
   "name": "python",
   "nbconvert_exporter": "python",
   "pygments_lexer": "ipython3",
   "version": "3.10.6"
  },
  "orig_nbformat": 4,
  "vscode": {
   "interpreter": {
    "hash": "26de051ba29f2982a8de78e945f0abaf191376122a1563185a90213a26c5da77"
   }
  }
 },
 "nbformat": 4,
 "nbformat_minor": 2
}
