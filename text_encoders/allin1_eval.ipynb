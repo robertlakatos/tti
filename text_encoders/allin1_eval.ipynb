{
 "cells": [
  {
   "cell_type": "code",
   "execution_count": null,
   "metadata": {},
   "outputs": [
    {
     "ename": "",
     "evalue": "",
     "output_type": "error",
     "traceback": [
      "\u001b[1;31mRunning cells with 'Python 3.10.4 ('kdp')' requires ipykernel package.\n",
      "\u001b[1;31mRun the following command to install 'ipykernel' into the Python environment. \n",
      "\u001b[1;31mCommand: 'conda install -n kdp ipykernel --update-deps --force-reinstall'"
     ]
    }
   ],
   "source": [
    "import pandas as pd\n",
    "\n",
    "synonyms = pd.DataFrame([\n",
    "    [\"bert-base-multilingual-uncased\",19,0.010675666066437255],\n",
    "    [\"bert-base-multilingual-cased\",19,0.13991050845544664],\n",
    "    [\"NYTK/text-generation-news-gpt2-small-hungarian\",23,0.23688595184771785],\n",
    "    [\"NYTK/text-generation-poem-petofi-gpt2-small-hungarian\",21,0.2592644874747727],\n",
    "    [\"SZTAKI-HLT/hubert-base-cc\",18,0.14521435481134956],\n",
    "    [\"sberbank-ai/mGPT\",11,0.005740245384897016],\n",
    "    [\"NYTK/sentiment-hts2-xlm-roberta-hungarian\",11,0.8522185572349799],\n",
    "    [\"NYTK/sentiment-hts5-xlm-roberta-hungarian\",18,0.14302178149106987],\n",
    "    [\"NYTK/sentiment-hts5-hubert-hungarian\",18,0.18175872020167],\n",
    "    [\"NYTK/sentiment-hts2-hubert-hungarian\",17,0.5406114871308844],\n",
    "    [\"roberta-base\",22,0.0011529833820267087],\n",
    "    [\"xlm-roberta-base\",43,0.002523067097350268],\n",
    "    [\"xlm-roberta-large\",82,0.0025427153825482766],\n",
    "    [\"xlm-mlm-100-1280\",109,0.39585007893104296],\n",
    "    [\"facebook/xlm-roberta-xl\",437, 0.0023994846301963746]], columns=[\"model\", \"run time (min)\", \"cos distance\"])\n",
    "\n",
    "synonyms.sort_values(by=['cos distance']).reset_index(drop=True)"
   ]
  }
 ],
 "metadata": {
  "kernelspec": {
   "display_name": "Python 3.10.4 ('kdp')",
   "language": "python",
   "name": "python3"
  },
  "language_info": {
   "name": "python",
   "version": "3.10.4"
  },
  "orig_nbformat": 4,
  "vscode": {
   "interpreter": {
    "hash": "0a642f1aabd78a6cc0959460b6dab3f189304f86a7b898666434db698507a10f"
   }
  }
 },
 "nbformat": 4,
 "nbformat_minor": 2
}
