{
 "cells": [
  {
   "cell_type": "markdown",
   "metadata": {},
   "source": [
    "# all text encoders"
   ]
  },
  {
   "cell_type": "code",
   "execution_count": 1,
   "metadata": {},
   "outputs": [],
   "source": [
    "import pprint\n",
    "pp = pprint.PrettyPrinter(indent=4, width=200, depth=None, stream=None, compact=False, sort_dicts=False)"
   ]
  },
  {
   "cell_type": "code",
   "execution_count": 2,
   "metadata": {},
   "outputs": [],
   "source": [
    "import json\n",
    "\n",
    "with open('szinonimak.json', encoding='utf-8') as f:\n",
    "    d = json.load(f)"
   ]
  },
  {
   "cell_type": "code",
   "execution_count": 3,
   "metadata": {},
   "outputs": [
    {
     "name": "stdout",
     "output_type": "stream",
     "text": [
      "{   'bibi': [   '(biz)',\n",
      "                [   'babrál',\n",
      "                    'vacakol',\n",
      "                    'piszkál',\n",
      "                    'pepecsel',\n",
      "                    'foglalatoskodik',\n",
      "                    'piszmog',\n",
      "                    'babirgál',\n",
      "                    'bizgelődik',\n",
      "                    'csecsebecsél',\n",
      "                    'kotorászik',\n",
      "                    'piszmolódik',\n",
      "                    'vesződik',\n",
      "                    'bajlódik',\n",
      "                    'erőlködik',\n",
      "                    'kínlódik',\n",
      "                    'sérülés',\n",
      "                    'sebesülés',\n",
      "                    'szúrás',\n",
      "                    'sebhely',\n",
      "                    'horzsolás',\n",
      "                    'zúzódás',\n",
      "                    'fakadékocska',\n",
      "                    'bibe',\n",
      "                    'akadály',\n",
      "                    'baj',\n",
      "                    'bökkenő',\n",
      "                    'nehézség',\n",
      "                    'gát',\n",
      "                    'torlasz',\n",
      "                    'bajoskodik',\n",
      "                    'bibi',\n",
      "                    'seb',\n",
      "                    'galiba']],\n",
      "    'langaléta': ['(fn  és  mn)', ['magas', 'hosszú', 'nyurga', 'hórihorgas', 'égimeszelő', 'colos', 'nyakigláb']],\n",
      "    'meghatalmazott': [   '(fn  és  mn)',\n",
      "                          [   'megbízott',\n",
      "                              'kiküldött',\n",
      "                              'képviselő',\n",
      "                              'kirendelt',\n",
      "                              'feljogosított',\n",
      "                              'jogosult',\n",
      "                              'felhatalmazott',\n",
      "                              'illetékes',\n",
      "                              'ügyvivő',\n",
      "                              'közbenjáró',\n",
      "                              'küldött',\n",
      "                              'követ',\n",
      "                              'teljhatalmú',\n",
      "                              'prokurátor',\n",
      "                              'mandatárius',\n",
      "                              'kinevezett',\n",
      "                              'autentikus',\n",
      "                              'teljhatalmazott']],\n",
      "    'elhunyt': ['(fn  és  mn)', ['meghalt', 'halott', 'megboldogult', 'néhai', 'megdicsőült', 'elhalálozott', 'kiszenvedett', 'kimúlt']],\n",
      "    'beste': ['(fn  és  mn)', ['rossz', 'bitang', 'gyalázatos', 'gonosz', 'gaz', 'hitvány', 'kurafi']],\n",
      "    'majom': ['(fn és mn)', ['(pej): majomparádé', 'divatmajom', 'piperkőc', 'divatbáb']],\n",
      "    'írástudatlan': ['(fn és mn)', ['analfabéta', 'írni-olvasni nem tudó', 'iskolázatlan', 'tanulatlan', 'műveletlen', 'képzetlen', 'pallérozatlan', 'kulturálatlan', 'nem tudó']],\n",
      "    'absztinens': ['(fn és mn)', ['antialkoholista', 'önmegtartóztató', 'mértékletes', 'BORISSZA', 'bornemissza', 'józan']],\n",
      "    'ausztrál': ['(fn és mn)', ['ausztráliai']],\n",
      "    'őslakó': ['(fn és mn)', ['bennszülött', 'őshonos', 'belföldi', 'őslakos', 'autochton']]}\n"
     ]
    }
   ],
   "source": [
    "# make smaller test dict\n",
    "d_keys_li=list(d.keys())\n",
    "smaller_dict={}\n",
    "for i in range(0,10):\n",
    "    smaller_dict[d_keys_li[i]]=d[d_keys_li[i]]\n",
    "# pp.pprint(smaller_dict)"
   ]
  },
  {
   "cell_type": "code",
   "execution_count": 7,
   "metadata": {},
   "outputs": [],
   "source": [
    "# d - full test disctionary\n",
    "# smaller_dict - 10 key dictionary\n",
    "DICT = smaller_dict"
   ]
  },
  {
   "cell_type": "code",
   "execution_count": 35,
   "metadata": {},
   "outputs": [],
   "source": [
    "def get_avg_res(tokenizer,model):\n",
    "    from scipy.spatial import distance\n",
    "\n",
    "    sum=0\n",
    "    cnt=0\n",
    "    avg=0\n",
    "\n",
    "    for k,v in DICT.items():\n",
    "        baseword=k\n",
    "        encoded_input_base=tokenizer(baseword,return_tensors='pt')\n",
    "        output_base = model(**encoded_input_base)\n",
    "        for e in v[1]:\n",
    "            synonym=e\n",
    "            encoded_input_synonym=tokenizer(synonym,return_tensors='pt')\n",
    "            output_synonym = model(**encoded_input_synonym)\n",
    "\n",
    "            embedded_base=output_base[0][0][0]\n",
    "            embedded_synonym=output_synonym[0][0][0]\n",
    "            dist=distance.cosine(embedded_base.detach().numpy(),embedded_synonym.detach().numpy())\n",
    "            sum=sum+dist\n",
    "            cnt=cnt+1\n",
    "    # overall result on synonym-dictionary       \n",
    "    avg=sum/cnt\n",
    "    print(avg)"
   ]
  },
  {
   "cell_type": "code",
   "execution_count": 29,
   "metadata": {},
   "outputs": [],
   "source": [
    "def get_avg_res_sentiment(tokenizer, model):\n",
    "    from scipy.spatial import distance\n",
    "\n",
    "    sum=0\n",
    "    cnt=0\n",
    "    avg=0\n",
    "\n",
    "    for k,v in DICT.items():\n",
    "        baseword=k\n",
    "        encoded_input_base=tokenizer(baseword,return_tensors='pt')\n",
    "        output_base = model(**encoded_input_base)\n",
    "        for e in v[1]:\n",
    "            synonym=e\n",
    "            encoded_input_synonym=tokenizer(synonym,return_tensors='pt')\n",
    "            output_synonym = model(**encoded_input_synonym)\n",
    "\n",
    "            embedded_base=output_base[0][0]\n",
    "            embedded_synonym=output_synonym[0][0]\n",
    "            dist=distance.cosine(embedded_base.tolist(),embedded_synonym.tolist())\n",
    "            sum=sum+dist\n",
    "            cnt=cnt+1\n",
    "    # overall result on synonym-dictionary       \n",
    "    avg=sum/cnt\n",
    "    print(avg)"
   ]
  },
  {
   "cell_type": "code",
   "execution_count": 44,
   "metadata": {},
   "outputs": [],
   "source": [
    "def get_avg_res_xlm100(tokenizer,model):\n",
    "    from scipy.spatial import distance\n",
    "\n",
    "    sum=0\n",
    "    cnt=0\n",
    "    avg=0\n",
    "\n",
    "    language_id_hu = tokenizer.lang2id[\"hu\"]\n",
    "\n",
    "    for k,v in DICT.items():\n",
    "        baseword=k\n",
    "        base_input_ids = torch.tensor([tokenizer.encode(baseword)])\n",
    "        base_lang =  torch.tensor([language_id_hu] * base_input_ids.shape[1])\n",
    "        base_lang = base_lang.view(1, -1)\n",
    "        output_base = model(base_input_ids, langs=base_lang)\n",
    "        for e in v[1]:\n",
    "            synonym=e\n",
    "            syn_input_ids = torch.tensor([tokenizer.encode(synonym)])\n",
    "            syn_lang =  torch.tensor([language_id_hu] * syn_input_ids.shape[1])\n",
    "            syn_lang = syn_lang.view(1, -1)\n",
    "            output_syn = model(syn_input_ids, langs=syn_lang)\n",
    "\n",
    "            embedded_base=output_base[0][0][0]\n",
    "            embedded_syn=output_syn[0][0][0]\n",
    "            dist=distance.cosine(embedded_base.tolist(),embedded_syn.tolist())\n",
    "            sum=sum+dist\n",
    "            cnt=cnt+1\n",
    "    # overall result on synonym-dictionary       \n",
    "    avg=sum/cnt\n",
    "    print(avg)"
   ]
  },
  {
   "cell_type": "code",
   "execution_count": 17,
   "metadata": {},
   "outputs": [
    {
     "name": "stderr",
     "output_type": "stream",
     "text": [
      "Some weights of the model checkpoint at bert-base-multilingual-uncased were not used when initializing BertModel: ['cls.seq_relationship.weight', 'cls.predictions.transform.LayerNorm.bias', 'cls.predictions.bias', 'cls.predictions.transform.dense.bias', 'cls.predictions.transform.dense.weight', 'cls.predictions.decoder.weight', 'cls.predictions.transform.LayerNorm.weight', 'cls.seq_relationship.bias']\n",
      "- This IS expected if you are initializing BertModel from the checkpoint of a model trained on another task or with another architecture (e.g. initializing a BertForSequenceClassification model from a BertForPreTraining model).\n",
      "- This IS NOT expected if you are initializing BertModel from the checkpoint of a model that you expect to be exactly identical (initializing a BertForSequenceClassification model from a BertForSequenceClassification model).\n"
     ]
    },
    {
     "name": "stdout",
     "output_type": "stream",
     "text": [
      "0.009158608864764778\n"
     ]
    }
   ],
   "source": [
    "# bert-base-multilingual-uncased\n",
    "from transformers import BertTokenizer, BertModel\n",
    "\n",
    "tokenizer = BertTokenizer.from_pretrained(\"bert-base-multilingual-uncased\")\n",
    "model = BertModel.from_pretrained(\"bert-base-multilingual-uncased\")\n",
    "\n",
    "get_avg_res(tokenizer,model)"
   ]
  },
  {
   "cell_type": "code",
   "execution_count": 18,
   "metadata": {},
   "outputs": [
    {
     "name": "stderr",
     "output_type": "stream",
     "text": [
      "Some weights of the model checkpoint at bert-base-multilingual-cased were not used when initializing BertModel: ['cls.seq_relationship.weight', 'cls.predictions.transform.LayerNorm.bias', 'cls.predictions.bias', 'cls.predictions.transform.dense.bias', 'cls.predictions.transform.dense.weight', 'cls.predictions.decoder.weight', 'cls.predictions.transform.LayerNorm.weight', 'cls.seq_relationship.bias']\n",
      "- This IS expected if you are initializing BertModel from the checkpoint of a model trained on another task or with another architecture (e.g. initializing a BertForSequenceClassification model from a BertForPreTraining model).\n",
      "- This IS NOT expected if you are initializing BertModel from the checkpoint of a model that you expect to be exactly identical (initializing a BertForSequenceClassification model from a BertForSequenceClassification model).\n"
     ]
    },
    {
     "name": "stdout",
     "output_type": "stream",
     "text": [
      "0.1254107921707387\n"
     ]
    }
   ],
   "source": [
    "# bert-base-multilingual-cased\n",
    "from transformers import BertTokenizer, BertModel\n",
    "\n",
    "tokenizer = BertTokenizer.from_pretrained(\"bert-base-multilingual-cased\")\n",
    "model = BertModel.from_pretrained(\"bert-base-multilingual-cased\")\n",
    "\n",
    "get_avg_res(tokenizer,model)"
   ]
  },
  {
   "cell_type": "code",
   "execution_count": 19,
   "metadata": {},
   "outputs": [
    {
     "name": "stdout",
     "output_type": "stream",
     "text": [
      "0.24639876323695087\n"
     ]
    }
   ],
   "source": [
    "# text-generation-news-gpt2-small-hungarian\n",
    "from transformers import AutoTokenizer, AutoModelForCausalLM\n",
    "\n",
    "tokenizer = AutoTokenizer.from_pretrained(\"NYTK/text-generation-news-gpt2-small-hungarian\")\n",
    "model = AutoModelForCausalLM.from_pretrained(\"NYTK/text-generation-news-gpt2-small-hungarian\")\n",
    "\n",
    "get_avg_res(tokenizer,model)"
   ]
  },
  {
   "cell_type": "code",
   "execution_count": 20,
   "metadata": {},
   "outputs": [
    {
     "name": "stdout",
     "output_type": "stream",
     "text": [
      "0.43725946777481206\n"
     ]
    }
   ],
   "source": [
    "# text-generation-poem-petofi-gpt2-small-hungarian\n",
    "from transformers import AutoTokenizer, AutoModelForCausalLM\n",
    "\n",
    "tokenizer = AutoTokenizer.from_pretrained(\"NYTK/text-generation-poem-petofi-gpt2-small-hungarian\")\n",
    "model = AutoModelForCausalLM.from_pretrained(\"NYTK/text-generation-poem-petofi-gpt2-small-hungarian\")\n",
    "\n",
    "get_avg_res(tokenizer,model)"
   ]
  },
  {
   "cell_type": "code",
   "execution_count": 21,
   "metadata": {},
   "outputs": [
    {
     "name": "stderr",
     "output_type": "stream",
     "text": [
      "Some weights of the model checkpoint at SZTAKI-HLT/hubert-base-cc were not used when initializing BertModel: ['cls.seq_relationship.weight', 'cls.predictions.transform.LayerNorm.bias', 'cls.predictions.bias', 'cls.predictions.transform.dense.bias', 'cls.predictions.transform.dense.weight', 'cls.predictions.decoder.bias', 'cls.predictions.decoder.weight', 'cls.predictions.transform.LayerNorm.weight', 'cls.seq_relationship.bias']\n",
      "- This IS expected if you are initializing BertModel from the checkpoint of a model trained on another task or with another architecture (e.g. initializing a BertForSequenceClassification model from a BertForPreTraining model).\n",
      "- This IS NOT expected if you are initializing BertModel from the checkpoint of a model that you expect to be exactly identical (initializing a BertForSequenceClassification model from a BertForSequenceClassification model).\n"
     ]
    },
    {
     "name": "stdout",
     "output_type": "stream",
     "text": [
      "0.16181597843462106\n"
     ]
    }
   ],
   "source": [
    "# hubert-base-cc\n",
    "from transformers import AutoModel, AutoTokenizer\n",
    "\n",
    "model = AutoModel.from_pretrained(\"SZTAKI-HLT/hubert-base-cc\")\n",
    "tokenizer = AutoTokenizer.from_pretrained(\"SZTAKI-HLT/hubert-base-cc\")\n",
    "\n",
    "get_avg_res(tokenizer,model)"
   ]
  },
  {
   "cell_type": "code",
   "execution_count": 22,
   "metadata": {},
   "outputs": [
    {
     "name": "stdout",
     "output_type": "stream",
     "text": [
      "0.006348213370965451\n"
     ]
    }
   ],
   "source": [
    "# mGPT\n",
    "from transformers import AutoTokenizer, AutoModelForCausalLM\n",
    "\n",
    "tokenizer = AutoTokenizer.from_pretrained(\"sberbank-ai/mGPT\")\n",
    "model = AutoModelForCausalLM.from_pretrained(\"sberbank-ai/mGPT\")\n",
    "\n",
    "get_avg_res(tokenizer,model)"
   ]
  },
  {
   "cell_type": "code",
   "execution_count": 30,
   "metadata": {},
   "outputs": [
    {
     "name": "stdout",
     "output_type": "stream",
     "text": [
      "0.7105878830825121\n"
     ]
    }
   ],
   "source": [
    "# sentiment-hts2-xlm-roberta-hungarian\n",
    "from transformers import AutoTokenizer, AutoModelForSequenceClassification\n",
    "\n",
    "tokenizer = AutoTokenizer.from_pretrained(\"NYTK/sentiment-hts2-xlm-roberta-hungarian\")\n",
    "model = AutoModelForSequenceClassification.from_pretrained(\"NYTK/sentiment-hts2-xlm-roberta-hungarian\")\n",
    "\n",
    "get_avg_res_sentiment(tokenizer,model)"
   ]
  },
  {
   "cell_type": "code",
   "execution_count": 31,
   "metadata": {},
   "outputs": [
    {
     "name": "stdout",
     "output_type": "stream",
     "text": [
      "0.14574735969674552\n"
     ]
    }
   ],
   "source": [
    "# sentiment-hts5-xlm-roberta-hungarian\n",
    "from transformers import AutoTokenizer, AutoModelForSequenceClassification\n",
    "\n",
    "tokenizer = AutoTokenizer.from_pretrained(\"NYTK/sentiment-hts5-xlm-roberta-hungarian\")\n",
    "model = AutoModelForSequenceClassification.from_pretrained(\"NYTK/sentiment-hts5-xlm-roberta-hungarian\")\n",
    "\n",
    "get_avg_res_sentiment(tokenizer,model)"
   ]
  },
  {
   "cell_type": "code",
   "execution_count": 32,
   "metadata": {},
   "outputs": [
    {
     "name": "stdout",
     "output_type": "stream",
     "text": [
      "0.22346660085836195\n"
     ]
    }
   ],
   "source": [
    "# sentiment-hts5-hubert-hungarian\n",
    "from transformers import AutoTokenizer, AutoModelForSequenceClassification\n",
    "\n",
    "tokenizer = AutoTokenizer.from_pretrained(\"NYTK/sentiment-hts5-hubert-hungarian\")\n",
    "model = AutoModelForSequenceClassification.from_pretrained(\"NYTK/sentiment-hts5-hubert-hungarian\")\n",
    "\n",
    "get_avg_res_sentiment(tokenizer,model)"
   ]
  },
  {
   "cell_type": "code",
   "execution_count": 33,
   "metadata": {},
   "outputs": [
    {
     "name": "stdout",
     "output_type": "stream",
     "text": [
      "0.41677919550617826\n"
     ]
    }
   ],
   "source": [
    "# sentiment-hts2-hubert-hungarian\n",
    "from transformers import AutoTokenizer, AutoModelForSequenceClassification\n",
    "\n",
    "tokenizer = AutoTokenizer.from_pretrained(\"NYTK/sentiment-hts2-hubert-hungarian\")\n",
    "model = AutoModelForSequenceClassification.from_pretrained(\"NYTK/sentiment-hts2-hubert-hungarian\")\n",
    "\n",
    "get_avg_res_sentiment(tokenizer,model)"
   ]
  },
  {
   "cell_type": "code",
   "execution_count": 36,
   "metadata": {},
   "outputs": [
    {
     "name": "stderr",
     "output_type": "stream",
     "text": [
      "Some weights of the model checkpoint at roberta-base were not used when initializing RobertaModel: ['lm_head.layer_norm.weight', 'lm_head.bias', 'lm_head.decoder.weight', 'lm_head.layer_norm.bias', 'lm_head.dense.bias', 'lm_head.dense.weight']\n",
      "- This IS expected if you are initializing RobertaModel from the checkpoint of a model trained on another task or with another architecture (e.g. initializing a BertForSequenceClassification model from a BertForPreTraining model).\n",
      "- This IS NOT expected if you are initializing RobertaModel from the checkpoint of a model that you expect to be exactly identical (initializing a BertForSequenceClassification model from a BertForSequenceClassification model).\n"
     ]
    },
    {
     "name": "stdout",
     "output_type": "stream",
     "text": [
      "0.0010679838608722298\n"
     ]
    }
   ],
   "source": [
    "# roberta-base\n",
    "from transformers import RobertaTokenizer, RobertaModel\n",
    "import torch\n",
    "\n",
    "tokenizer = RobertaTokenizer.from_pretrained(\"roberta-base\")\n",
    "model = RobertaModel.from_pretrained(\"roberta-base\")\n",
    "\n",
    "get_avg_res(tokenizer,model)"
   ]
  },
  {
   "cell_type": "code",
   "execution_count": 37,
   "metadata": {},
   "outputs": [
    {
     "name": "stdout",
     "output_type": "stream",
     "text": [
      "0.0022653231815415987\n"
     ]
    }
   ],
   "source": [
    "# xlm-roberta-base\n",
    "from transformers import AutoTokenizer, AutoModelForMaskedLM\n",
    "\n",
    "tokenizer = AutoTokenizer.from_pretrained('xlm-roberta-base')\n",
    "model = AutoModelForMaskedLM.from_pretrained(\"xlm-roberta-base\")\n",
    "\n",
    "get_avg_res(tokenizer,model)"
   ]
  },
  {
   "cell_type": "code",
   "execution_count": 38,
   "metadata": {},
   "outputs": [
    {
     "name": "stdout",
     "output_type": "stream",
     "text": [
      "0.002848853262103334\n"
     ]
    }
   ],
   "source": [
    "# xlm-roberta-large\n",
    "from transformers import AutoTokenizer, AutoModelForMaskedLM\n",
    "\n",
    "tokenizer = AutoTokenizer.from_pretrained('xlm-roberta-large')\n",
    "model = AutoModelForMaskedLM.from_pretrained(\"xlm-roberta-large\")\n",
    "\n",
    "get_avg_res(tokenizer,model)"
   ]
  },
  {
   "cell_type": "code",
   "execution_count": 45,
   "metadata": {},
   "outputs": [
    {
     "name": "stderr",
     "output_type": "stream",
     "text": [
      "Some weights of XLMWithLMHeadModel were not initialized from the model checkpoint at xlm-mlm-100-1280 and are newly initialized: ['transformer.position_ids']\n",
      "You should probably TRAIN this model on a down-stream task to be able to use it for predictions and inference.\n"
     ]
    },
    {
     "name": "stdout",
     "output_type": "stream",
     "text": [
      "0.37748131415778263\n"
     ]
    }
   ],
   "source": [
    "# xlm-mlm-100-1280\n",
    "from transformers import XLMTokenizer, XLMWithLMHeadModel\n",
    "import torch\n",
    "\n",
    "tokenizer = XLMTokenizer.from_pretrained(\"xlm-mlm-100-1280\")\n",
    "model = XLMWithLMHeadModel.from_pretrained(\"xlm-mlm-100-1280\")\n",
    "\n",
    "get_avg_res_xlm100(tokenizer,model)"
   ]
  },
  {
   "cell_type": "code",
   "execution_count": 41,
   "metadata": {},
   "outputs": [
    {
     "name": "stdout",
     "output_type": "stream",
     "text": [
      "0.0024696521613062645\n"
     ]
    }
   ],
   "source": [
    "# xlm-roberta-xl\n",
    "from transformers import AutoTokenizer, AutoModelForMaskedLM\n",
    "\n",
    "# xxl - 40G+\n",
    "tokenizer = AutoTokenizer.from_pretrained(\"facebook/xlm-roberta-xl\")\n",
    "model = AutoModelForMaskedLM.from_pretrained(\"facebook/xlm-roberta-xl\")\n",
    "\n",
    "get_avg_res(tokenizer,model)\n",
    "# 10 key dict - 8 min"
   ]
  }
 ],
 "metadata": {
  "kernelspec": {
   "display_name": "Python 3.10.6 64-bit",
   "language": "python",
   "name": "python3"
  },
  "language_info": {
   "codemirror_mode": {
    "name": "ipython",
    "version": 3
   },
   "file_extension": ".py",
   "mimetype": "text/x-python",
   "name": "python",
   "nbconvert_exporter": "python",
   "pygments_lexer": "ipython3",
   "version": "3.10.6"
  },
  "orig_nbformat": 4,
  "vscode": {
   "interpreter": {
    "hash": "26de051ba29f2982a8de78e945f0abaf191376122a1563185a90213a26c5da77"
   }
  }
 },
 "nbformat": 4,
 "nbformat_minor": 2
}
