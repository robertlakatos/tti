{
 "cells": [
  {
   "cell_type": "code",
   "execution_count": 20,
   "metadata": {},
   "outputs": [
    {
     "name": "stderr",
     "output_type": "stream",
     "text": [
      "C:\\Users\\Miki\\AppData\\Roaming\\Python\\Python310\\site-packages\\transformers\\generation_utils.py:1202: UserWarning: Neither `max_length` nor `max_new_tokens` have been set, `max_length` will default to 200 (`self.config.max_length`). Controlling `max_length` via the config is deprecated and `max_length` will be removed from the config in v5 of Transformers -- we recommend using `max_new_tokens` to control the maximum length of the generation.\n",
      "  warnings.warn(\n"
     ]
    },
    {
     "name": "stdout",
     "output_type": "stream",
     "text": [
      "fiú boy \n",
      " férfi Man\n"
     ]
    }
   ],
   "source": [
    "# fordítás - működik\n",
    "from transformers import M2M100ForConditionalGeneration, M2M100Tokenizer\n",
    "\n",
    "hu_text1 = \"fiú\"\n",
    "hu_text2 = \"férfi\"\n",
    "\n",
    "tokenizer = M2M100Tokenizer.from_pretrained(\"facebook/m2m100_418M\", src_lang=\"hu\")\n",
    "model = M2M100ForConditionalGeneration.from_pretrained(\"facebook/m2m100_418M\")\n",
    "\n",
    "encoded_hu1 = tokenizer(hu_text1, return_tensors=\"pt\")\n",
    "generated_tokens1 = model.generate(**encoded_hu1, forced_bos_token_id=tokenizer.get_lang_id(\"en\"))\n",
    "en_text1 = tokenizer.batch_decode(generated_tokens1, skip_special_tokens=True)[0]\n",
    "\n",
    "encoded_hu2 = tokenizer(hu_text2, return_tensors=\"pt\")\n",
    "generated_tokens2 = model.generate(**encoded_hu2, forced_bos_token_id=tokenizer.get_lang_id(\"en\"))\n",
    "en_text2 = tokenizer.batch_decode(generated_tokens2, skip_special_tokens=True)[0]\n",
    "\n",
    "print(hu_text1, en_text1,'\\n',hu_text2, en_text2)"
   ]
  },
  {
   "cell_type": "code",
   "execution_count": 21,
   "metadata": {},
   "outputs": [
    {
     "name": "stderr",
     "output_type": "stream",
     "text": [
      "Some weights of the model checkpoint at facebook/m2m100_418M were not used when initializing M2M100Model: ['lm_head.weight']\n",
      "- This IS expected if you are initializing M2M100Model from the checkpoint of a model trained on another task or with another architecture (e.g. initializing a BertForSequenceClassification model from a BertForPreTraining model).\n",
      "- This IS NOT expected if you are initializing M2M100Model from the checkpoint of a model that you expect to be exactly identical (initializing a BertForSequenceClassification model from a BertForSequenceClassification model).\n",
      "Some weights of M2M100Model were not initialized from the model checkpoint at facebook/m2m100_418M and are newly initialized: ['model.encoder.embed_positions.weights', 'model.decoder.embed_positions.weights']\n",
      "You should probably TRAIN this model on a down-stream task to be able to use it for predictions and inference.\n"
     ]
    }
   ],
   "source": [
    "from transformers import M2M100Tokenizer\n",
    "from transformers import M2M100Model\n",
    "import torch\n",
    "\n",
    "#m2m100_418M\n",
    "#m2m100_1.2B better\n",
    "model = M2M100Model.from_pretrained(\"facebook/m2m100_418M\")\n",
    "tokenizer = M2M100Tokenizer.from_pretrained(\"facebook/m2m100_418M\", src_lang=\"hu\", tgt_lang=\"en\")"
   ]
  },
  {
   "cell_type": "code",
   "execution_count": 22,
   "metadata": {},
   "outputs": [],
   "source": [
    "# targettel működik\n",
    "hu1 = \"fiú\"\n",
    "#hu_target1=\"boy\"\n",
    "encoded_input1 = tokenizer(hu1, return_tensors='pt')\n",
    "with tokenizer.as_target_tokenizer():\n",
    "    labels1 = tokenizer(en_text1, return_tensors=\"pt\").input_ids\n",
    "output1=model(**encoded_input1, decoder_input_ids=labels1)\n",
    "emb_hu1=output1[0][0][0]\n",
    "\n",
    "hu2 = \"férfi\"\n",
    "#hu_target2=\"man\"\n",
    "encoded_input2 = tokenizer(hu2, return_tensors='pt')\n",
    "with tokenizer.as_target_tokenizer():\n",
    "    labels2 = tokenizer(en_text2, return_tensors=\"pt\").input_ids\n",
    "output2 = model(**encoded_input2, decoder_input_ids=labels2)\n",
    "emb_hu2=output2[0][0][0]"
   ]
  },
  {
   "cell_type": "code",
   "execution_count": 23,
   "metadata": {},
   "outputs": [
    {
     "name": "stdout",
     "output_type": "stream",
     "text": [
      "0.0032167434692382812\n"
     ]
    }
   ],
   "source": [
    "from scipy.spatial import distance\n",
    "\n",
    "print(distance.cosine(emb_hu1.detach().numpy(),emb_hu2.detach().numpy())) #1.2B 0.0020917654037475586 fiu,ferfi  -  418M 0.0032167434692382812 fiu,ferfi"
   ]
  },
  {
   "cell_type": "code",
   "execution_count": 2,
   "metadata": {},
   "outputs": [],
   "source": [
    "import pprint\n",
    "pp = pprint.PrettyPrinter(indent=4, width=200, depth=None, stream=None, compact=False, sort_dicts=False)"
   ]
  }
 ],
 "metadata": {
  "kernelspec": {
   "display_name": "Python 3.10.6 64-bit",
   "language": "python",
   "name": "python3"
  },
  "language_info": {
   "codemirror_mode": {
    "name": "ipython",
    "version": 3
   },
   "file_extension": ".py",
   "mimetype": "text/x-python",
   "name": "python",
   "nbconvert_exporter": "python",
   "pygments_lexer": "ipython3",
   "version": "3.10.6"
  },
  "orig_nbformat": 4,
  "vscode": {
   "interpreter": {
    "hash": "26de051ba29f2982a8de78e945f0abaf191376122a1563185a90213a26c5da77"
   }
  }
 },
 "nbformat": 4,
 "nbformat_minor": 2
}
