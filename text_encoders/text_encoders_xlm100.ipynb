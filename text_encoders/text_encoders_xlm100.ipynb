{
 "cells": [
  {
   "cell_type": "code",
   "execution_count": 10,
   "metadata": {},
   "outputs": [
    {
     "name": "stderr",
     "output_type": "stream",
     "text": [
      "Some weights of XLMWithLMHeadModel were not initialized from the model checkpoint at xlm-mlm-100-1280 and are newly initialized: ['transformer.position_ids']\n",
      "You should probably TRAIN this model on a down-stream task to be able to use it for predictions and inference.\n"
     ]
    }
   ],
   "source": [
    "import torch\n",
    "import datasets\n",
    "from transformers import XLMTokenizer, XLMWithLMHeadModel\n",
    "\n",
    "tokenizer = XLMTokenizer.from_pretrained(\"xlm-mlm-100-1280\")\n",
    "model = XLMWithLMHeadModel.from_pretrained(\"xlm-mlm-100-1280\")"
   ]
  },
  {
   "cell_type": "code",
   "execution_count": 12,
   "metadata": {},
   "outputs": [],
   "source": [
    "import pprint\n",
    "pp = pprint.PrettyPrinter(indent=4, width=200, depth=None, stream=None, compact=False, sort_dicts=False)"
   ]
  },
  {
   "cell_type": "code",
   "execution_count": 18,
   "metadata": {},
   "outputs": [],
   "source": [
    "language_id_hu = tokenizer.lang2id[\"hu\"]  # 39\n",
    "\n",
    "hu1 = \"fiú\"\n",
    "input_ids_hu1 = torch.tensor([tokenizer.encode(hu1)])\n",
    "lang_hu1 = torch.tensor([language_id_hu] * input_ids_hu1.shape[1])  # torch.tensor([0, 0, 0, ..., 0])\n",
    "# We reshape it to be of size (batch_size, sequence_length)\n",
    "lang_hu1 = lang_hu1.view(1, -1)  # is now of shape [1, sequence_length] (we have a batch size of 1)\n",
    "outputs_hu1 = model(input_ids_hu1, langs=lang_hu1)\n",
    "emb_hu1=outputs_hu1[0][0][0]\n",
    "\n",
    "hu2 = \"férfi\"\n",
    "input_ids_hu2 = torch.tensor([tokenizer.encode(hu2)])\n",
    "lang_hu2 = torch.tensor([language_id_hu] * input_ids_hu2.shape[1])  # torch.tensor([0, 0, 0, ..., 0])\n",
    "# We reshape it to be of size (batch_size, sequence_length)\n",
    "lang_hu2 = lang_hu2.view(1, -1)  # is now of shape [1, sequence_length] (we have a batch size of 1)\n",
    "outputs_hu2 = model(input_ids_hu2, langs=lang_hu2)\n",
    "emb_hu2=outputs_hu2[0][0][0]"
   ]
  },
  {
   "cell_type": "code",
   "execution_count": 19,
   "metadata": {},
   "outputs": [
    {
     "name": "stdout",
     "output_type": "stream",
     "text": [
      "0.20946742860433587\n"
     ]
    }
   ],
   "source": [
    "from scipy.spatial import distance\n",
    "\n",
    "print(distance.cosine(emb_hu1.tolist(),emb_hu2.tolist())) #0.20946742860433587 fiu,ferfi"
   ]
  }
 ],
 "metadata": {
  "kernelspec": {
   "display_name": "Python 3.10.6 64-bit",
   "language": "python",
   "name": "python3"
  },
  "language_info": {
   "codemirror_mode": {
    "name": "ipython",
    "version": 3
   },
   "file_extension": ".py",
   "mimetype": "text/x-python",
   "name": "python",
   "nbconvert_exporter": "python",
   "pygments_lexer": "ipython3",
   "version": "3.10.6"
  },
  "orig_nbformat": 4,
  "vscode": {
   "interpreter": {
    "hash": "eeb4052d4966a9973745426f1b51f2530426dad2402a261b07ddacf10af6d92f"
   }
  }
 },
 "nbformat": 4,
 "nbformat_minor": 2
}
