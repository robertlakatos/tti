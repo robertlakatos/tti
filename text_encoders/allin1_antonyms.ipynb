{
 "cells": [
  {
   "cell_type": "markdown",
   "metadata": {},
   "source": [
    "# all text encoders"
   ]
  },
  {
   "cell_type": "code",
   "execution_count": 1,
   "metadata": {},
   "outputs": [],
   "source": [
    "import pprint\n",
    "pp = pprint.PrettyPrinter(indent=4, width=200, depth=None, stream=None, compact=False, sort_dicts=False)"
   ]
  },
  {
   "cell_type": "code",
   "execution_count": 2,
   "metadata": {},
   "outputs": [],
   "source": [
    "import json\n",
    "\n",
    "with open('../pdf_to_dictionary/ellentetek.json', encoding='utf-8') as f:\n",
    "    d = json.load(f)"
   ]
  },
  {
   "cell_type": "code",
   "execution_count": 3,
   "metadata": {},
   "outputs": [],
   "source": [
    "# make smaller test dict\n",
    "d_keys_li=list(d.keys())\n",
    "smaller_dict={}\n",
    "for i in range(0,10):\n",
    "    smaller_dict[d_keys_li[i]]=d[d_keys_li[i]]\n",
    "# pp.pprint(smaller_dict)"
   ]
  },
  {
   "cell_type": "code",
   "execution_count": 4,
   "metadata": {},
   "outputs": [],
   "source": [
    "# d - full test disctionary\n",
    "# smaller_dict - 10 key dictionary\n",
    "# DICT = smaller_dict\n",
    "DICT = d"
   ]
  },
  {
   "cell_type": "code",
   "execution_count": 5,
   "metadata": {},
   "outputs": [],
   "source": [
    "def get_avg_res_bert(tokenizer,model):\n",
    "    from scipy.spatial import distance\n",
    "    import numpy as np\n",
    "\n",
    "    sum=0\n",
    "    cnt=0\n",
    "    avg=0\n",
    "\n",
    "    for k,v in DICT.items():\n",
    "        baseword=k\n",
    "        encoded_input_base=tokenizer(baseword,return_tensors='pt')\n",
    "        output_base = model(**encoded_input_base)\n",
    "        for e in v[1]:\n",
    "            synonym=e\n",
    "            encoded_input_synonym=tokenizer(synonym,return_tensors='pt')\n",
    "            output_synonym = model(**encoded_input_synonym)\n",
    "\n",
    "            embedded_base_avg=np.average(output_base.last_hidden_state[0].detach().numpy(), axis=0)\n",
    "            embedded_synonym_avg=np.average(output_synonym.last_hidden_state[0].detach().numpy(), axis=0)\n",
    "            dist=distance.cosine(embedded_base_avg,embedded_synonym_avg)\n",
    "            sum=sum+dist\n",
    "            cnt=cnt+1\n",
    "    # overall result on synonym-dictionary\n",
    "        print(cnt, end=\"\\r\")\n",
    "           \n",
    "    avg=sum/cnt\n",
    "    print(avg)\n",
    "    return avg"
   ]
  },
  {
   "cell_type": "code",
   "execution_count": 6,
   "metadata": {},
   "outputs": [],
   "source": [
    "def get_avg_res_other(tokenizer, model):\n",
    "    from scipy.spatial import distance\n",
    "    import numpy as np\n",
    "\n",
    "    sum=0\n",
    "    cnt=0\n",
    "    avg=0\n",
    "\n",
    "    for k,v in DICT.items():\n",
    "        baseword=k\n",
    "        encoded_input_base=tokenizer(baseword,return_tensors='pt')\n",
    "        output_base = model(**encoded_input_base,output_hidden_states=True)\n",
    "        output_base_np=output_base.hidden_states[-1][0].detach().numpy()\n",
    "        for e in v[1]:\n",
    "            synonym=e\n",
    "            encoded_input_synonym=tokenizer(synonym,return_tensors='pt')\n",
    "            output_synonym = model(**encoded_input_synonym,output_hidden_states=True)\n",
    "            output_synonym_np=output_synonym.hidden_states[-1][0].detach().numpy()\n",
    "\n",
    "            embedded_base_avg=np.average(output_base_np, axis=0)\n",
    "            embedded_synonym_avg=np.average(output_synonym_np, axis=0)\n",
    "            dist=distance.cosine(embedded_base_avg,embedded_synonym_avg)\n",
    "            sum=sum+dist\n",
    "            cnt=cnt+1\n",
    "        print(cnt, end=\"\\r\")\n",
    "    # overall result on synonym-dictionary       \n",
    "    avg=sum/cnt\n",
    "    print(avg)\n",
    "    return avg"
   ]
  },
  {
   "cell_type": "code",
   "execution_count": 7,
   "metadata": {},
   "outputs": [],
   "source": [
    "def get_avg_res_xlm100(tokenizer,model):\n",
    "    from scipy.spatial import distance\n",
    "\n",
    "    sum=0\n",
    "    cnt=0\n",
    "    avg=0\n",
    "\n",
    "    language_id_hu = tokenizer.lang2id[\"hu\"]\n",
    "\n",
    "    for k,v in DICT.items():\n",
    "        baseword=k\n",
    "        base_input_ids = torch.tensor([tokenizer.encode(baseword)])\n",
    "        base_lang =  torch.tensor([language_id_hu] * base_input_ids.shape[1])\n",
    "        base_lang = base_lang.view(1, -1)\n",
    "        output_base = model(base_input_ids, langs=base_lang)\n",
    "        for e in v[1]:\n",
    "            synonym=e\n",
    "            syn_input_ids = torch.tensor([tokenizer.encode(synonym)])\n",
    "            syn_lang =  torch.tensor([language_id_hu] * syn_input_ids.shape[1])\n",
    "            syn_lang = syn_lang.view(1, -1)\n",
    "            output_syn = model(syn_input_ids, langs=syn_lang)\n",
    "\n",
    "            embedded_base=output_base[0][0][-1]\n",
    "            embedded_syn=output_syn[0][0][-1]\n",
    "            dist=distance.cosine(embedded_base.tolist(),embedded_syn.tolist())\n",
    "            sum=sum+dist\n",
    "            cnt=cnt+1\n",
    "    # overall result on synonym-dictionary       \n",
    "    avg=sum/cnt\n",
    "    print(avg)\n",
    "    return avg"
   ]
  },
  {
   "cell_type": "code",
   "execution_count": 7,
   "metadata": {},
   "outputs": [],
   "source": [
    "# dic_result = {\n",
    "#     \"bert-base-multilingual-uncased\" : {},\n",
    "#     \"bert-base-multilingual-cased\" : {},\n",
    "#     \"NYTK/text-generation-news-gpt2-small-hungarian\" : {},\n",
    "#     \"NYTK/text-generation-poem-petofi-gpt2-small-hungarian\" : {},\n",
    "#     \"SZTAKI-HLT/hubert-base-cc\" : {},\n",
    "#     \"sberbank-ai/mGPT\" : {},\n",
    "#     \"NYTK/sentiment-hts2-xlm-roberta-hungarian\" : {},\n",
    "#     \"NYTK/sentiment-hts5-xlm-roberta-hungarian\" : {},\n",
    "#     \"NYTK/sentiment-hts5-hubert-hungarian\" : {},\n",
    "#     \"NYTK/sentiment-hts2-hubert-hungarian\" : {},\n",
    "#     \"roberta-base\" : {},\n",
    "#     \"xlm-roberta-base\" : {},\n",
    "#     \"xlm-roberta-large\" : {},\n",
    "#     \"xlm-mlm-100-1280\" : {},\n",
    "#     \"facebook/xlm-roberta-xl\" : {}\n",
    "# }\n",
    "# with open(\"results.json\", \"w+\") as resultf:\n",
    "#     json.dump(dic_result, resultf)"
   ]
  },
  {
   "cell_type": "code",
   "execution_count": 8,
   "metadata": {},
   "outputs": [
    {
     "data": {
      "text/plain": [
       "{'bert-base-multilingual-uncased': {'syn_hu': 0.27792526276512247},\n",
       " 'bert-base-multilingual-cased': {'syn_hu': 0.4367072685744003},\n",
       " 'NYTK/text-generation-news-gpt2-small-hungarian': {'syn_hu': 0.42827802149637384},\n",
       " 'NYTK/text-generation-poem-petofi-gpt2-small-hungarian': {'syn_hu': 0.3693537550153803},\n",
       " 'SZTAKI-HLT/hubert-base-cc': {'syn_hu': 0.05893374912235821},\n",
       " 'sberbank-ai/mGPT': {'syn_hu': 0.1330561433268905},\n",
       " 'NYTK/sentiment-hts2-xlm-roberta-hungarian': {'syn_hu': 0.6582233949544475},\n",
       " 'NYTK/sentiment-hts5-xlm-roberta-hungarian': {'syn_hu': 0.1807633529347575},\n",
       " 'NYTK/sentiment-hts5-hubert-hungarian': {'syn_hu': 0.1294809751615292},\n",
       " 'NYTK/sentiment-hts2-hubert-hungarian': {'syn_hu': 0.16887050825909086},\n",
       " 'roberta-base': {},\n",
       " 'xlm-roberta-base': {'syn_hu': 0.006440796056190049},\n",
       " 'xlm-roberta-large': {'syn_hu': 0.005448855006477714},\n",
       " 'xlm-mlm-100-1280': {'syn_hu': 0.423519610398453},\n",
       " 'facebook/xlm-roberta-xl': {'syn_hu': 0.05564785176719958}}"
      ]
     },
     "execution_count": 8,
     "metadata": {},
     "output_type": "execute_result"
    }
   ],
   "source": [
    "with open(\"results.json\", \"r\") as resultf:\n",
    "    dic_result = json.load(resultf)\n",
    "dic_result"
   ]
  },
  {
   "cell_type": "code",
   "execution_count": null,
   "metadata": {},
   "outputs": [],
   "source": [
    "# distilbert-base-multilingual-cased\n",
    "from transformers import AutoTokenizer, AutoModelForMaskedLM\n",
    "\n",
    "tokenizer = AutoTokenizer.from_pretrained(\"distilbert-base-multilingual-cased\")\n",
    "model = AutoModelForMaskedLM.from_pretrained(\"distilbert-base-multilingual-cased\")\n",
    "\n",
    "dic_result[\"distilbert-base-multilingual-cased\"][\"ant_hu\"] = get_avg_res_other(tokenizer,model)\n",
    "\n",
    "with open(\"results.json\", \"w+\") as resultf: json.dump(dic_result, resultf)"
   ]
  },
  {
   "cell_type": "code",
   "execution_count": 9,
   "metadata": {},
   "outputs": [
    {
     "name": "stderr",
     "output_type": "stream",
     "text": [
      "c:\\Users\\L0021\\Anaconda3\\envs\\test\\lib\\site-packages\\tqdm\\auto.py:22: TqdmWarning: IProgress not found. Please update jupyter and ipywidgets. See https://ipywidgets.readthedocs.io/en/stable/user_install.html\n",
      "  from .autonotebook import tqdm as notebook_tqdm\n",
      "Some weights of the model checkpoint at bert-base-multilingual-uncased were not used when initializing BertModel: ['cls.predictions.transform.LayerNorm.bias', 'cls.predictions.decoder.weight', 'cls.predictions.transform.dense.bias', 'cls.seq_relationship.bias', 'cls.predictions.transform.dense.weight', 'cls.predictions.transform.LayerNorm.weight', 'cls.seq_relationship.weight', 'cls.predictions.bias']\n",
      "- This IS expected if you are initializing BertModel from the checkpoint of a model trained on another task or with another architecture (e.g. initializing a BertForSequenceClassification model from a BertForPreTraining model).\n",
      "- This IS NOT expected if you are initializing BertModel from the checkpoint of a model that you expect to be exactly identical (initializing a BertForSequenceClassification model from a BertForSequenceClassification model).\n"
     ]
    },
    {
     "name": "stdout",
     "output_type": "stream",
     "text": [
      "0.2827126649011932\n"
     ]
    }
   ],
   "source": [
    "# bert-base-multilingual-uncased\n",
    "# Run time: 21m\n",
    "from transformers import BertTokenizer, BertModel\n",
    "\n",
    "tokenizer = BertTokenizer.from_pretrained(\"bert-base-multilingual-uncased\")\n",
    "model = BertModel.from_pretrained(\"bert-base-multilingual-uncased\")\n",
    "\n",
    "dic_result[\"bert-base-multilingual-uncased\"][\"ant_hu\"] = get_avg_res_bert(tokenizer,model)\n",
    "\n",
    "with open(\"results.json\", \"w+\") as resultf: json.dump(dic_result, resultf)"
   ]
  },
  {
   "cell_type": "code",
   "execution_count": 10,
   "metadata": {},
   "outputs": [
    {
     "name": "stderr",
     "output_type": "stream",
     "text": [
      "Some weights of the model checkpoint at bert-base-multilingual-cased were not used when initializing BertModel: ['cls.predictions.transform.LayerNorm.bias', 'cls.predictions.decoder.weight', 'cls.predictions.transform.dense.bias', 'cls.seq_relationship.bias', 'cls.predictions.transform.dense.weight', 'cls.predictions.transform.LayerNorm.weight', 'cls.seq_relationship.weight', 'cls.predictions.bias']\n",
      "- This IS expected if you are initializing BertModel from the checkpoint of a model trained on another task or with another architecture (e.g. initializing a BertForSequenceClassification model from a BertForPreTraining model).\n",
      "- This IS NOT expected if you are initializing BertModel from the checkpoint of a model that you expect to be exactly identical (initializing a BertForSequenceClassification model from a BertForSequenceClassification model).\n"
     ]
    },
    {
     "name": "stdout",
     "output_type": "stream",
     "text": [
      "0.4390978391437541\n"
     ]
    }
   ],
   "source": [
    "# bert-base-multilingual-cased\n",
    "# Run time: 19m\n",
    "from transformers import BertTokenizer, BertModel\n",
    "\n",
    "tokenizer = BertTokenizer.from_pretrained(\"bert-base-multilingual-cased\")\n",
    "model = BertModel.from_pretrained(\"bert-base-multilingual-cased\")\n",
    "\n",
    "dic_result[\"bert-base-multilingual-cased\"][\"ant_hu\"] = get_avg_res_bert(tokenizer,model)\n",
    "\n",
    "with open(\"results.json\", \"w+\") as resultf: json.dump(dic_result, resultf)"
   ]
  },
  {
   "cell_type": "code",
   "execution_count": 11,
   "metadata": {},
   "outputs": [
    {
     "name": "stderr",
     "output_type": "stream",
     "text": [
      "Some weights of the model checkpoint at SZTAKI-HLT/hubert-base-cc were not used when initializing BertModel: ['cls.predictions.transform.LayerNorm.bias', 'cls.predictions.decoder.weight', 'cls.predictions.decoder.bias', 'cls.predictions.transform.dense.bias', 'cls.seq_relationship.bias', 'cls.predictions.transform.dense.weight', 'cls.predictions.transform.LayerNorm.weight', 'cls.seq_relationship.weight', 'cls.predictions.bias']\n",
      "- This IS expected if you are initializing BertModel from the checkpoint of a model trained on another task or with another architecture (e.g. initializing a BertForSequenceClassification model from a BertForPreTraining model).\n",
      "- This IS NOT expected if you are initializing BertModel from the checkpoint of a model that you expect to be exactly identical (initializing a BertForSequenceClassification model from a BertForSequenceClassification model).\n"
     ]
    },
    {
     "name": "stdout",
     "output_type": "stream",
     "text": [
      "0.06082000361830001\n"
     ]
    }
   ],
   "source": [
    "# hubert-base-cc\n",
    "# Run time: 18m\n",
    "from transformers import AutoModel, AutoTokenizer\n",
    "\n",
    "model = AutoModel.from_pretrained(\"SZTAKI-HLT/hubert-base-cc\")\n",
    "tokenizer = AutoTokenizer.from_pretrained(\"SZTAKI-HLT/hubert-base-cc\")\n",
    "\n",
    "dic_result[\"SZTAKI-HLT/hubert-base-cc\"][\"ant_hu\"] = get_avg_res_bert(tokenizer,model)\n",
    "\n",
    "with open(\"results.json\", \"w+\") as resultf: json.dump(dic_result, resultf)"
   ]
  },
  {
   "cell_type": "code",
   "execution_count": 12,
   "metadata": {},
   "outputs": [
    {
     "name": "stdout",
     "output_type": "stream",
     "text": [
      "0.458458951674369\n"
     ]
    }
   ],
   "source": [
    "# text-generation-news-gpt2-small-hungarian\n",
    "# Run time: 21m\n",
    "from transformers import AutoTokenizer, AutoModelForCausalLM\n",
    "\n",
    "tokenizer = AutoTokenizer.from_pretrained(\"NYTK/text-generation-news-gpt2-small-hungarian\")\n",
    "model = AutoModelForCausalLM.from_pretrained(\"NYTK/text-generation-news-gpt2-small-hungarian\")\n",
    "\n",
    "dic_result[\"NYTK/text-generation-news-gpt2-small-hungarian\"][\"ant_hu\"] = get_avg_res_other(tokenizer,model)\n",
    "\n",
    "with open(\"results.json\", \"w+\") as resultf: json.dump(dic_result, resultf)"
   ]
  },
  {
   "cell_type": "code",
   "execution_count": 13,
   "metadata": {},
   "outputs": [
    {
     "name": "stdout",
     "output_type": "stream",
     "text": [
      "0.3993917938213175\n"
     ]
    }
   ],
   "source": [
    "# text-generation-poem-petofi-gpt2-small-hungarian\n",
    "# Run time: 21m\n",
    "from transformers import AutoTokenizer, AutoModelForCausalLM\n",
    "\n",
    "tokenizer = AutoTokenizer.from_pretrained(\"NYTK/text-generation-poem-petofi-gpt2-small-hungarian\")\n",
    "model = AutoModelForCausalLM.from_pretrained(\"NYTK/text-generation-poem-petofi-gpt2-small-hungarian\")\n",
    "\n",
    "dic_result[\"NYTK/text-generation-poem-petofi-gpt2-small-hungarian\"][\"ant_hu\"] = get_avg_res_other(tokenizer,model)\n",
    "\n",
    "with open(\"results.json\", \"w+\") as resultf: json.dump(dic_result, resultf)"
   ]
  },
  {
   "cell_type": "code",
   "execution_count": 14,
   "metadata": {},
   "outputs": [
    {
     "name": "stdout",
     "output_type": "stream",
     "text": [
      "0.1406258561842439\n"
     ]
    }
   ],
   "source": [
    "# mGPT\n",
    "# Run time: 234m\n",
    "from transformers import AutoTokenizer, AutoModelForCausalLM\n",
    "\n",
    "tokenizer = AutoTokenizer.from_pretrained(\"sberbank-ai/mGPT\")\n",
    "model = AutoModelForCausalLM.from_pretrained(\"sberbank-ai/mGPT\")\n",
    "\n",
    "dic_result[\"sberbank-ai/mGPT\"][\"ant_hu\"] = get_avg_res_other(tokenizer,model)\n",
    "\n",
    "with open(\"results.json\", \"w+\") as resultf: json.dump(dic_result, resultf)"
   ]
  },
  {
   "cell_type": "code",
   "execution_count": 15,
   "metadata": {},
   "outputs": [
    {
     "name": "stdout",
     "output_type": "stream",
     "text": [
      "0.7164178789762122\n"
     ]
    }
   ],
   "source": [
    "# sentiment-hts2-xlm-roberta-hungarian\n",
    "# Run time: 11m\n",
    "from transformers import AutoTokenizer, AutoModelForSequenceClassification\n",
    "\n",
    "tokenizer = AutoTokenizer.from_pretrained(\"NYTK/sentiment-hts2-xlm-roberta-hungarian\")\n",
    "model = AutoModelForSequenceClassification.from_pretrained(\"NYTK/sentiment-hts2-xlm-roberta-hungarian\")\n",
    "\n",
    "dic_result[\"NYTK/sentiment-hts2-xlm-roberta-hungarian\"][\"ant_hu\"] = get_avg_res_other(tokenizer,model)\n",
    "\n",
    "with open(\"results.json\", \"w+\") as resultf: json.dump(dic_result, resultf)"
   ]
  },
  {
   "cell_type": "code",
   "execution_count": 16,
   "metadata": {},
   "outputs": [
    {
     "name": "stdout",
     "output_type": "stream",
     "text": [
      "0.23405399693724285\n"
     ]
    }
   ],
   "source": [
    "# sentiment-hts5-xlm-roberta-hungarian\n",
    "# Run time: 18m\n",
    "from transformers import AutoTokenizer, AutoModelForSequenceClassification\n",
    "\n",
    "tokenizer = AutoTokenizer.from_pretrained(\"NYTK/sentiment-hts5-xlm-roberta-hungarian\")\n",
    "model = AutoModelForSequenceClassification.from_pretrained(\"NYTK/sentiment-hts5-xlm-roberta-hungarian\")\n",
    "\n",
    "dic_result[\"NYTK/sentiment-hts5-xlm-roberta-hungarian\"][\"ant_hu\"] = get_avg_res_other(tokenizer,model)\n",
    "\n",
    "with open(\"results.json\", \"w+\") as resultf: json.dump(dic_result, resultf)"
   ]
  },
  {
   "cell_type": "code",
   "execution_count": 17,
   "metadata": {},
   "outputs": [
    {
     "name": "stdout",
     "output_type": "stream",
     "text": [
      "0.17378702840269716\n"
     ]
    }
   ],
   "source": [
    "# sentiment-hts5-hubert-hungarian\n",
    "# Run time: 18m\n",
    "from transformers import AutoTokenizer, AutoModelForSequenceClassification\n",
    "\n",
    "tokenizer = AutoTokenizer.from_pretrained(\"NYTK/sentiment-hts5-hubert-hungarian\")\n",
    "model = AutoModelForSequenceClassification.from_pretrained(\"NYTK/sentiment-hts5-hubert-hungarian\")\n",
    "\n",
    "dic_result[\"NYTK/sentiment-hts5-hubert-hungarian\"][\"ant_hu\"] = get_avg_res_other(tokenizer,model)\n",
    "\n",
    "with open(\"results.json\", \"w+\") as resultf: json.dump(dic_result, resultf)"
   ]
  },
  {
   "cell_type": "code",
   "execution_count": 18,
   "metadata": {},
   "outputs": [
    {
     "name": "stdout",
     "output_type": "stream",
     "text": [
      "0.2911613891161046\n"
     ]
    }
   ],
   "source": [
    "# sentiment-hts2-hubert-hungarian\n",
    "# Run time: 17m\n",
    "from transformers import AutoTokenizer, AutoModelForSequenceClassification\n",
    "\n",
    "tokenizer = AutoTokenizer.from_pretrained(\"NYTK/sentiment-hts2-hubert-hungarian\")\n",
    "model = AutoModelForSequenceClassification.from_pretrained(\"NYTK/sentiment-hts2-hubert-hungarian\")\n",
    "\n",
    "dic_result[\"NYTK/sentiment-hts2-hubert-hungarian\"][\"ant_hu\"] = get_avg_res_other(tokenizer,model)\n",
    "\n",
    "with open(\"results.json\", \"w+\") as resultf: json.dump(dic_result, resultf)"
   ]
  },
  {
   "cell_type": "markdown",
   "metadata": {},
   "source": [
    "# This is english only\n",
    "# roberta-base\n",
    "# Run time: 22m\n",
    "from transformers import RobertaTokenizer, RobertaModel\n",
    "import torch\n",
    "\n",
    "tokenizer = RobertaTokenizer.from_pretrained(\"roberta-base\")\n",
    "model = RobertaModel.from_pretrained(\"roberta-base\")\n",
    "\n",
    "get_avg_res(tokenizer,model)"
   ]
  },
  {
   "cell_type": "code",
   "execution_count": 19,
   "metadata": {},
   "outputs": [
    {
     "name": "stdout",
     "output_type": "stream",
     "text": [
      "0.006509641419028101\n"
     ]
    }
   ],
   "source": [
    "# xlm-roberta-base\n",
    "# Run time: 43m\n",
    "from transformers import AutoTokenizer, AutoModelForMaskedLM\n",
    "\n",
    "tokenizer = AutoTokenizer.from_pretrained('xlm-roberta-base')\n",
    "model = AutoModelForMaskedLM.from_pretrained(\"xlm-roberta-base\")\n",
    "\n",
    "dic_result[\"xlm-roberta-base\"][\"ant_hu\"] = get_avg_res_other(tokenizer,model)\n",
    "\n",
    "with open(\"results.json\", \"w+\") as resultf: json.dump(dic_result, resultf)"
   ]
  },
  {
   "cell_type": "code",
   "execution_count": 20,
   "metadata": {},
   "outputs": [
    {
     "name": "stdout",
     "output_type": "stream",
     "text": [
      "0.0055712449077952066\n"
     ]
    }
   ],
   "source": [
    "# xlm-roberta-large\n",
    "# Run time: 82m\n",
    "from transformers import AutoTokenizer, AutoModelForMaskedLM\n",
    "\n",
    "tokenizer = AutoTokenizer.from_pretrained('xlm-roberta-large')\n",
    "model = AutoModelForMaskedLM.from_pretrained(\"xlm-roberta-large\")\n",
    "\n",
    "dic_result[\"xlm-roberta-large\"][\"ant_hu\"] = get_avg_res_other(tokenizer,model)\n",
    "\n",
    "with open(\"results.json\", \"w+\") as resultf: json.dump(dic_result, resultf)"
   ]
  },
  {
   "cell_type": "code",
   "execution_count": 21,
   "metadata": {},
   "outputs": [
    {
     "name": "stderr",
     "output_type": "stream",
     "text": [
      "Some weights of XLMWithLMHeadModel were not initialized from the model checkpoint at xlm-mlm-100-1280 and are newly initialized: ['transformer.position_ids']\n",
      "You should probably TRAIN this model on a down-stream task to be able to use it for predictions and inference.\n"
     ]
    },
    {
     "name": "stdout",
     "output_type": "stream",
     "text": [
      "0.43119427910552915\n"
     ]
    }
   ],
   "source": [
    "# xlm-mlm-100-1280\n",
    "# Run time: 109m\n",
    "from transformers import XLMTokenizer, XLMWithLMHeadModel\n",
    "import torch\n",
    "\n",
    "tokenizer = XLMTokenizer.from_pretrained(\"xlm-mlm-100-1280\")\n",
    "model = XLMWithLMHeadModel.from_pretrained(\"xlm-mlm-100-1280\")\n",
    "\n",
    "dic_result[\"xlm-mlm-100-1280\"][\"ant_hu\"] = get_avg_res_other(tokenizer,model)\n",
    "\n",
    "with open(\"results.json\", \"w+\") as resultf: json.dump(dic_result, resultf)"
   ]
  },
  {
   "cell_type": "code",
   "execution_count": 22,
   "metadata": {},
   "outputs": [
    {
     "name": "stdout",
     "output_type": "stream",
     "text": [
      "0.05678474388908368\n"
     ]
    }
   ],
   "source": [
    "# xlm-roberta-xl\n",
    "from transformers import AutoTokenizer, AutoModelForMaskedLM\n",
    "\n",
    "tokenizer = AutoTokenizer.from_pretrained(\"facebook/xlm-roberta-xl\")\n",
    "model = AutoModelForMaskedLM.from_pretrained(\"facebook/xlm-roberta-xl\")\n",
    "\n",
    "dic_result[\"facebook/xlm-roberta-xl\"][\"ant_hu\"] = get_avg_res_other(tokenizer,model)\n",
    "\n",
    "with open(\"results.json\", \"w+\") as resultf: json.dump(dic_result, resultf)"
   ]
  }
 ],
 "metadata": {
  "kernelspec": {
   "display_name": "Python 3.10.4 ('test')",
   "language": "python",
   "name": "python3"
  },
  "language_info": {
   "codemirror_mode": {
    "name": "ipython",
    "version": 3
   },
   "file_extension": ".py",
   "mimetype": "text/x-python",
   "name": "python",
   "nbconvert_exporter": "python",
   "pygments_lexer": "ipython3",
   "version": "3.10.4"
  },
  "vscode": {
   "interpreter": {
    "hash": "7da2ed42c42331910b8e09c038aeb154369f64b33c9bedddea115f1cfef530ad"
   }
  }
 },
 "nbformat": 4,
 "nbformat_minor": 4
}
