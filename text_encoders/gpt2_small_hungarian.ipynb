{
 "cells": [
  {
   "cell_type": "code",
   "execution_count": 6,
   "metadata": {},
   "outputs": [
    {
     "name": "stderr",
     "output_type": "stream",
     "text": [
      "Downloading tokenizer_config.json: 100%|██████████| 596/596 [00:00<00:00, 299kB/s]\n",
      "Downloading vocab.json: 100%|██████████| 591k/591k [00:00<00:00, 1.29MB/s]\n",
      "Downloading merges.txt: 100%|██████████| 376k/376k [00:00<00:00, 819kB/s]  \n",
      "Downloading tokenizer.json: 100%|██████████| 1.01M/1.01M [00:00<00:00, 1.26MB/s]\n",
      "Downloading special_tokens_map.json: 100%|██████████| 109/109 [00:00<00:00, 54.7kB/s]\n",
      "Downloading config.json: 100%|██████████| 773/773 [00:00<00:00, 775kB/s]\n",
      "Downloading pytorch_model.bin: 100%|██████████| 436M/436M [00:12<00:00, 37.9MB/s] \n"
     ]
    }
   ],
   "source": [
    "from transformers import AutoTokenizer, AutoModelForCausalLM\n",
    "\n",
    "# NYTK/text-generation-poem-petofi-gpt2-small-hungarian\n",
    "# NYTK/text-generation-news-gpt2-small-hungarian\n",
    "tokenizer = AutoTokenizer.from_pretrained(\"NYTK/text-generation-news-gpt2-small-hungarian\")\n",
    "model = AutoModelForCausalLM.from_pretrained(\"NYTK/text-generation-news-gpt2-small-hungarian\")"
   ]
  },
  {
   "cell_type": "code",
   "execution_count": 7,
   "metadata": {},
   "outputs": [],
   "source": [
    "import pprint\n",
    "pp = pprint.PrettyPrinter(indent=4, width=200, depth=None, stream=None, compact=False, sort_dicts=False)"
   ]
  },
  {
   "cell_type": "code",
   "execution_count": 8,
   "metadata": {},
   "outputs": [],
   "source": [
    "hu1 = \"fiú\"\n",
    "encoded_input1 = tokenizer(hu1, return_tensors='pt')\n",
    "output1 = model(**encoded_input1)\n",
    "emb_hu1=output1[0][0][0]\n",
    "\n",
    "hu2 = \"férfi\"\n",
    "encoded_input2 = tokenizer(hu2, return_tensors='pt')\n",
    "output2 = model(**encoded_input2)\n",
    "emb_hu2=output2[0][0][0]"
   ]
  },
  {
   "cell_type": "code",
   "execution_count": 9,
   "metadata": {},
   "outputs": [
    {
     "name": "stdout",
     "output_type": "stream",
     "text": [
      "0.23468738794326782\n"
     ]
    }
   ],
   "source": [
    "from scipy.spatial import distance\n",
    "\n",
    "print(distance.cosine(emb_hu1.detach().numpy(),emb_hu2.detach().numpy())) #poem 0.21378487348556519 fiu,ferfi  -  news 0.23468738794326782 fiu,ferfi"
   ]
  }
 ],
 "metadata": {
  "kernelspec": {
   "display_name": "Python 3.10.6 64-bit",
   "language": "python",
   "name": "python3"
  },
  "language_info": {
   "codemirror_mode": {
    "name": "ipython",
    "version": 3
   },
   "file_extension": ".py",
   "mimetype": "text/x-python",
   "name": "python",
   "nbconvert_exporter": "python",
   "pygments_lexer": "ipython3",
   "version": "3.10.6"
  },
  "orig_nbformat": 4,
  "vscode": {
   "interpreter": {
    "hash": "26de051ba29f2982a8de78e945f0abaf191376122a1563185a90213a26c5da77"
   }
  }
 },
 "nbformat": 4,
 "nbformat_minor": 2
}
