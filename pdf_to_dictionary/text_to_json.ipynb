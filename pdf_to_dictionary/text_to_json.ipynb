{
 "cells": [
  {
   "cell_type": "code",
   "execution_count": 1,
   "metadata": {},
   "outputs": [],
   "source": [
    "# https://www.gutenberg.org/files/51155/51155-h/51155-h.htm\n",
    "import json"
   ]
  },
  {
   "cell_type": "code",
   "execution_count": 5,
   "metadata": {},
   "outputs": [
    {
     "ename": "ValueError",
     "evalue": "I/O operation on closed file.",
     "output_type": "error",
     "traceback": [
      "\u001b[1;31m---------------------------------------------------------------------------\u001b[0m",
      "\u001b[1;31mValueError\u001b[0m                                Traceback (most recent call last)",
      "\u001b[1;32m~\\AppData\\Local\\Temp/ipykernel_15056/3005578867.py\u001b[0m in \u001b[0;36m<module>\u001b[1;34m\u001b[0m\n\u001b[1;32m----> 1\u001b[1;33m \u001b[0mf\u001b[0m\u001b[1;33m.\u001b[0m\u001b[0mreadline\u001b[0m\u001b[1;33m(\u001b[0m\u001b[1;33m)\u001b[0m\u001b[1;33m\u001b[0m\u001b[1;33m\u001b[0m\u001b[0m\n\u001b[0m",
      "\u001b[1;31mValueError\u001b[0m: I/O operation on closed file."
     ]
    }
   ],
   "source": [
    "f.readline()"
   ]
  },
  {
   "cell_type": "code",
   "execution_count": 34,
   "metadata": {},
   "outputs": [],
   "source": [
    "cleaned = []\n",
    "with open(\"english_syn_ant.txt\",\"r\") as f:\n",
    "    lines = f.readlines()\n",
    "    for line in lines:    \n",
    "        if \"KEY\" in line or \"SYN\" in line or \"ANT\" in line:\n",
    "            cleaned.append(line.replace(\"\\n\",\"\").replace(\":,\",\":\").replace(\".\",\"\").lower())            "
   ]
  },
  {
   "cell_type": "code",
   "execution_count": 30,
   "metadata": {},
   "outputs": [
    {
     "data": {
      "text/plain": [
       "19791"
      ]
     },
     "execution_count": 30,
     "metadata": {},
     "output_type": "execute_result"
    }
   ],
   "source": [
    "len(cleaned)"
   ]
  },
  {
   "cell_type": "code",
   "execution_count": 19,
   "metadata": {},
   "outputs": [
    {
     "data": {
      "text/plain": [
       "['ANT: Diminish, slacken, weaken, reduce, abate.',\n",
       " 'KEY: Redound (followed by the \\\\prep.\\\\ to.',\n",
       " 'SYN:, Add, result, issue, tend, accrue, contribute, lead, incline, conduce.',\n",
       " 'ANT: Fail, miss, swerve, nullify, defeat, disappoint, frustrate, injure.']"
      ]
     },
     "execution_count": 19,
     "metadata": {},
     "output_type": "execute_result"
    }
   ],
   "source": [
    "cleaned[15002:15006]"
   ]
  },
  {
   "cell_type": "code",
   "execution_count": 37,
   "metadata": {},
   "outputs": [],
   "source": [
    "dic = {}\n",
    "for i in range(0, len(cleaned),3):\n",
    "    key = cleaned[i].split(\": \")[1]\n",
    "    tmp = key.split(\" \")\n",
    "    if len(tmp) > 0: key = tmp[0]\n",
    "    dic[key] = {\n",
    "        \"syn\" : cleaned[i+1].split(\": \")[1].split(\", \"),\n",
    "        \"ant\" : cleaned[i+2].split(\": \")[1].split(\", \")\n",
    "    }\n"
   ]
  },
  {
   "cell_type": "code",
   "execution_count": 40,
   "metadata": {},
   "outputs": [],
   "source": [
    "with open(\"english_syn_ant.json\",\"w\") as f:\n",
    "    json.dump(dic, f)"
   ]
  }
 ],
 "metadata": {
  "kernelspec": {
   "display_name": "Python 3.8.12 ('errl')",
   "language": "python",
   "name": "python3"
  },
  "language_info": {
   "codemirror_mode": {
    "name": "ipython",
    "version": 3
   },
   "file_extension": ".py",
   "mimetype": "text/x-python",
   "name": "python",
   "nbconvert_exporter": "python",
   "pygments_lexer": "ipython3",
   "version": "3.8.12"
  },
  "orig_nbformat": 4,
  "vscode": {
   "interpreter": {
    "hash": "c89ff4e902b8823068a4ef0519a72db2dea69528ae54c97e5cb904c57e44242d"
   }
  }
 },
 "nbformat": 4,
 "nbformat_minor": 2
}
